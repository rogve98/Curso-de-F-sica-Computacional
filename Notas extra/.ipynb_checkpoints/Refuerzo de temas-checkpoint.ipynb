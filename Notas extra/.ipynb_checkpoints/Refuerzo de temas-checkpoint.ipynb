{
 "cells": [
  {
   "cell_type": "markdown",
   "id": "e7152bc4-06e5-4da1-b3e5-bcb5c1605416",
   "metadata": {},
   "source": [
    "# Refuerzo de temas del curso y de Python en general\n",
    "\n",
    "El presente notebook trae consigo todos los temas que aparecen en la lista que se compartió el día 15 de Octubre, 2024. Se recomienda utilizar el índice para poder acceder más rápido a los temas. Para poder activarlo ya sea que que te encuentres en Jupyter Notebook o en JupyterLab hay que realizar el siguiente shortcut: `Ctrl + Shift + K`, sino funciona te recomiendo ir al menú *View* y seleccionar *Table of Contents*. Muchos de los temas están repetidos por lo que se intentará realizar un número considerable de ejemplos y proponer algunos ejercicios para la práctica.\n",
    "\n",
    "## Tema extra: Python Object Orientable Programming (OOP) [Opcional]\n",
    "\n",
    "(disclaimer) Me tomé la libertad de hablar un poco de programación orientada a objetos para este caso de Python, si quieres ahondar en el tema te recomiendo hacerlo para poder comprender mejor el funcionamiento de Python, sin embargo, si no te sientes listx te recomiendo saltarlo y revisarlo con más calma en otra ocasión.\n",
    "\n",
    "Python es considerado un lenguaje orientado a objetos (OOP) por lo que es conveniente tener al menos una noción de este concepto para explotarlo de mayor o menor medida; mínimo para conocer la estructura y dinámica del lenguaje. Pero ¿qué significa que sea un lenguaje orientado a objetos? es más ¿qué es un objeto? Intenaré introducir estas ideas en un nivel muuuuy simple pero suficiente para entender la filosofía de Python y todos los lenguajes orientados a objetos.\n",
    "\n",
    "Un **objeto** en su forma más simple de explicar es considerada una caja o un espacio de memoria en el que se almacena y se manipula información de cualquier tipo (hablando de tipos de datos: Int, Float, etc.); estos objetos se encuentran asociados a una **Clase** que es considerada como una \"plantilla\" para la creación de objetos que cuenta con un conjuto de datos llamados **atributos** y presenta una serie de comportamientos llamados **métodos** (funciones dentro de la clase). Cuando en un desarrollo se tiene la construcción de un gran número de clases que sirven para un fin en específico se pueden guardar en una **librería** la cual podemos mandar a llamar para invocar toda su información. Por lo tanto, cada vez que importamos librerías como  `numpy` en realidad estamos invocando todo un conjunto de clases y sus funcionalidades para que podamos trabajar.\n",
    "\n",
    "A continuación te presento una breve formación de clases con sus atributos y métodos, y te muestro como crear objetos a partir de la clase creada."
   ]
  },
  {
   "cell_type": "code",
   "execution_count": null,
   "id": "47139cc9-23c8-4124-b936-6be806d1484a",
   "metadata": {},
   "outputs": [],
   "source": [
    "#Es mejor definir hasta arriba todas las librerías a utilizar en el notebook para no andar buscando las celdas en donde podrían ejecutarse de no hacer esto\n",
    "import matplotlib.pyplot as plt\n",
    "import numpy as np\n",
    "import pandas as pd"
   ]
  },
  {
   "cell_type": "code",
   "execution_count": null,
   "id": "73c42488-6e7a-46d2-af22-856b9a764652",
   "metadata": {},
   "outputs": [],
   "source": [
    "#En una clase podemos definir un gran número de objetos con distintos tipos\n",
    "class Datos:\n",
    "    #Los atributos son datos se encuentran en la clase y que se pueden mandar a llamar y/o utilizar para los métodos de la clase.\n",
    "    atributo1 = 1\n",
    "    atributo2 = \"Hola\""
   ]
  },
  {
   "cell_type": "code",
   "execution_count": null,
   "id": "e0171bab-dd29-4872-98fb-8fb461907485",
   "metadata": {},
   "outputs": [],
   "source": [
    "#Al poner Datas como a continuación ya estamos generando un objeto, sin embargo carece de referencia \n",
    "Datos"
   ]
  },
  {
   "cell_type": "code",
   "execution_count": null,
   "id": "db7e9490-c66a-4fc7-8769-a68bafb82037",
   "metadata": {},
   "outputs": [],
   "source": [
    "#Por lo que no podemos acceder a su información a menos de que lo forcemos\n",
    "Datos.atributo1"
   ]
  },
  {
   "cell_type": "markdown",
   "id": "b12d204c-52dc-4615-9e35-ca92a50ad4b8",
   "metadata": {},
   "source": [
    "Hemos generado una clase con dos atributos, uno de tipo `Int` y otro de tipo `String`. Podemos generar un objeto al poner como tal `Datos` en una celda de código, sin embargo esto seriviría de poco pues no podemos manipular este objeto de ninguna forma debido a que carece de una **referencia**. Aún así podemos acceder a sus atributos pero da lo mismo, no podemos hacer mucho pues no hay algún espacio de memoria reservado para que podamos mandar a llamar esa información en cualquier otro punto del código.\n",
    "\n",
    "Para que me entiendas esta idea te encomiendo un ejercicio: Intenta mandar a llamar `atributo1` del objeto que `Datos` que creamos arriba. Sin afán de hacerte quebrar la cabeza, esto es imposible porque no hay referencia del objeto creado. Entonces, creemos una:"
   ]
  },
  {
   "cell_type": "code",
   "execution_count": null,
   "id": "32e922b0-32fe-43ed-9303-2fad73f6125c",
   "metadata": {},
   "outputs": [],
   "source": [
    "#De esta manera referenciamos el objeto Datos asignándolo a un espacio de memoria llamado a\n",
    "a = Datos"
   ]
  },
  {
   "cell_type": "markdown",
   "id": "887b7ada-4ab7-49bd-9b5e-347be3a6ac85",
   "metadata": {},
   "source": [
    "Hemos creado nuestro primer objeto y este objeto es único, tiene un lugar especial y reservado de memoria, podemos crear más objetos de la clase Datos y cada uno será único y detergente. Lo importante de haber referenciado es que ahora si podemos acceder a sus atributos:"
   ]
  },
  {
   "cell_type": "code",
   "execution_count": null,
   "id": "f5349c46-f697-4ea0-8fd9-b55ba831fda3",
   "metadata": {},
   "outputs": [],
   "source": [
    "#Para acceder a los atributos o métodos de una clase usamos el objeto \".\"\n",
    "#te recomiendo usar tab para ver que atributos y métodos tiene tu objeto\n",
    "a.atributo1"
   ]
  },
  {
   "cell_type": "markdown",
   "id": "f8d08dc4-9afe-4a5f-a2a3-2adcc4abbe3f",
   "metadata": {},
   "source": [
    "Como puedes ver hemos mandado a llamar el `atributo1` del objeto `a` asociado a la clase `Datos` (plantilla de objetos). Para poder ver atributos y métodos de tu objeto te recomiendo presionar tu tecla `tab`. Otro detalle que debes de saber sobre Python es que es de tipado dinámico, a diferencia de Java que es de tipado estático. Esto quiere decir que toda definición de objetos puede ir cambiando su tipo de dato al que se le asigne. Por ejemplo si en algún punto de la vida creo el **objeto** (que normalmente conocemos hasta ahora como variable) `x = 5`, más adelante el objeto `x` puede cambiar de tipo de dato, de la siguiente manera\n",
    "\n",
    "```Python\n",
    "x = 5\n",
    "x = \"hola\"\n",
    "```\n",
    "Esto quizás puede no tener sentido por ahora, sin embargo se tiene el problema de que los datos se pueden ver comprometidos si no tenemos suficiente cuidado. Java por ejemplo, es un lenguage OOP pero con tipado estático, quiere decir que si si definimos una variable u objeto se debe hacer como sigue:\n",
    "```Java\n",
    "int y\n",
    "int x = 5\n",
    "```\n",
    "en el primer caso, puedes definir posteriormente a `y` con cualquier entero pero exclusivamente entero. Si queremos realizar la siguiente asignación\n",
    "```Java\n",
    "y = \"Hola\"\n",
    "```\n",
    "Nos marcará un error de compilación. Esto particularmente lo veo bueno porque así no se ve comprometida la información de tus objetos y puedes generar un desarrollo más organizado y limpio. El tipado dinámico de Python es mayormente para que no te preocupes del tipo de datos que defines sino más bien te concentres en otras cosas más importantes de desarrollo, como lo han estado haciendo hasta ahora. No nos hemos preocupado de la definición de datos sino puramente del desarrollo de los algoritmos y métodos numéricos que hemos estado viendo a lo largo del curso. \n",
    "\n",
    "Personalmente no me agrada el tipado dinámico porque en algún punto de la vida comienzas a generar un código cada vez más organizado y que requiere de esos aspectos de seguridad, yo soy mayormente team Julia que es un híbrido de muchas cosas y tiene tanto tipado dinámico como estático, y haber definido datos con tipo estático me ha salvado de cometer errores cruciales en lo que ando trabajando.\n",
    "\n",
    "Veamos a continuación algunas desventajas del tipado dinámico\n"
   ]
  },
  {
   "cell_type": "code",
   "execution_count": null,
   "id": "94a748ea-5018-4fd9-ac12-45a3e1366f6d",
   "metadata": {},
   "outputs": [],
   "source": [
    "#Esto en Java daría un error de compilación, incluso en Julia si definieramos desde el principio el tipo de dato de x\n",
    "x = 5\n",
    "x = \"hola\"\n",
    "x"
   ]
  },
  {
   "cell_type": "code",
   "execution_count": null,
   "id": "dfcf0a57-726c-4d48-8c66-19ae46ddfaf2",
   "metadata": {},
   "outputs": [],
   "source": [
    "#Ua de las desventajas es que podemos cambiar los atributos de Datos de manera global, eso en mi experiencia brinda cierta inestabilidad\n",
    "a.atributo2"
   ]
  },
  {
   "cell_type": "code",
   "execution_count": null,
   "id": "6a33529b-ad12-403e-a096-97ce8798c816",
   "metadata": {},
   "outputs": [],
   "source": [
    "#aquí hemos cambiado el tipo de dato del atributo 2 de la plantilla Datos\n",
    "a.atributo2 = 2\n",
    "a.atributo2"
   ]
  },
  {
   "cell_type": "code",
   "execution_count": null,
   "id": "1d64a4a0-de2f-4376-8265-5aadfe674814",
   "metadata": {},
   "outputs": [],
   "source": [
    "#El problema es que se ha cambiado de manera global y permanente, si creamos otro objeto de la plantilla Datos\n",
    "#y accedemos al segundo atributo ya no será nunca más la cadena que habíamos definido.\n",
    "b = Datos\n",
    "b.atributo2"
   ]
  },
  {
   "cell_type": "code",
   "execution_count": null,
   "id": "aeda8405-05d2-4848-bed0-576b89e79daa",
   "metadata": {},
   "outputs": [],
   "source": [
    "#Viendo desde la raíz el segundo atributo confirmamos que ha sido cambiado de una vez por todas.\n",
    "Datos.atributo2"
   ]
  },
  {
   "cell_type": "markdown",
   "id": "025aa212-fbfd-4244-ac4a-6e6006cc9c48",
   "metadata": {},
   "source": [
    "Para volver a la forma original de la clase (plantilla) Datos debemos regresar a ejecutar esa celda para que todo regrese a la normalidad (te recomiendo hacerlo y ejecutar la siguiente celda)"
   ]
  },
  {
   "cell_type": "code",
   "execution_count": null,
   "id": "2ea04b80-ecb4-4621-807a-3d5a430e9db8",
   "metadata": {},
   "outputs": [],
   "source": [
    "a = Datos\n",
    "a.atributo2"
   ]
  },
  {
   "cell_type": "markdown",
   "id": "d263ce02-60ee-4e1a-8ee1-6f5bda2c4757",
   "metadata": {},
   "source": [
    "Hasta ahora es probable que no notes la importancia de esto, sin embargo permíteme narrar una experiencia personal. En mi trabajo de tesis he definido algunas `struct` que son lo análogo a las `class` de Python pero en Julia (presentan algunas sutiles diferencias), en particular la siguiente:\n",
    "``` Julia\n",
    "mutable struct DatosCSV\n",
    "    dominio::Union{StepRangeLen{Float64, Base.TwicePrecision{Float64}, Base.TwicePrecision{Float64}, Int64},Vector{Float64}}\n",
    "    resultado::Vector{Any}\n",
    "    ruta::String\n",
    "    nombeArchivo::String\n",
    "end\n",
    "```\n",
    "(no te espantes) Esta es una clase como la que hemos creado (`Datos`) cuyos atributos son `dominio`, `resultado`, `ruta`, y `nombreArchivo`, y cada uno de esos atributos tiene su tipo de dato, en los dos primeros casos es un arreglo/vector y en los otros dos una cadena. Esta clase me ha serivido para guardar en ella un bloque de información y pasársela a una función para que me realizara un tratamiento de datos. \n",
    "\n",
    "El tema es que la información de los primeros dos atributos me tardaba en compilar desde dos horas hasta doce horas dependiendo de la complejidad de lo que estuviera calculando. Por lo que siempre trataba con pinzas esas listas (listas, arreglos y vectores en Julia es lo mismo XD) para que no ocurriera una desgracia por alguna distracción. El tema es que en una ocasión en el atributo resultado solamente registré una variable que era un flotante, por ejemplo guardé un `0.2`. Al compilar un objeto de DatosCSV con dicha información pues me regresó un error de compilación porque no estaba registrando en el atributo `resultado` un vector sino un número. Esta pequeña acción me salvo de no haber cometido un error que hubiera sido costoso por el tiempo que tardó en compilar y por toda la chamba que llevaba detrás de esta compilación, por lo tanto estoy agradecido con el tipado estático XD.\n",
    "\n",
    "Bueno hasta ahora parece que le he estado tirando tierra a Python jaja pero únicamente por el tipado dinámico, además aún le ando aprendiendo varias y variadas cosas ya que no me considero taaan pro como lo soy en Julia. Una de las cosas que me fascinan de Python y de los lenguajes OOP son los métodos, no son más que funciones que se definen dentro de las clases y a los que se pueden invocar una vez que tengamos definido el objeto. La diferencia entre métodos y funciones es que la función se define en donde sea y es independiente de cualquier objeto mientras que el método es una función asociada a un objeto. Algunos ejemplos que hemos visto son:\n",
    "```Python\n",
    "x = [1,2,3]\n",
    "x.append(4) #Agrega el 4 a la lista\n",
    "x.pop()     #Elimina el último elemento de la lista\n",
    "```\n",
    "Cada uno de estos métodos es una función que se define dentro de su respectiva clase. Cada clase tendrán sus métodos asociados como hemos visto por ahí el `split()`. Definamos a continuación algunos métodos:"
   ]
  },
  {
   "cell_type": "code",
   "execution_count": null,
   "id": "64fb0e71-c272-4152-829d-e210bdb9a853",
   "metadata": {},
   "outputs": [],
   "source": [
    "#Hasta ahora la clase que creamos solo tenía atributos, no le podíamos pasar argumentos para que hiciera cosas\n",
    "#Definamos la siguiente clase\n",
    "class Prueba1:\n",
    "    atributo1 = []\n",
    "    atributo2 = 3.1416\n",
    "    #El primer método que crearemos es el constructor que da la capacidad de guardar información en la instancia argumento1\n",
    "    def __init__(self,argumento1):\n",
    "        self.argumento1 = argumento1"
   ]
  },
  {
   "cell_type": "code",
   "execution_count": null,
   "id": "aa02b750-bb9d-4757-b179-39193f6e437f",
   "metadata": {},
   "outputs": [],
   "source": [
    "c = Prueba1((3.4,[],{}))"
   ]
  },
  {
   "cell_type": "code",
   "execution_count": null,
   "id": "f0c4a5b1-da94-4bcd-ba73-d0a2cc353d2c",
   "metadata": {},
   "outputs": [],
   "source": [
    "#Podemos acceder a la información que le hemos ingresado al objeto mediante\n",
    "print(c.atributo1)\n",
    "print(c.atributo2)\n",
    "print(c.argumento1)"
   ]
  },
  {
   "cell_type": "markdown",
   "id": "bd2d56e1-f211-4c16-8fb8-863e4c2f8d77",
   "metadata": {},
   "source": [
    "La diferencia entre esta clase y la primera que creamos es que ahora le podemos pasar datos para que se guarden en nuevas instancias y que posteriormente podamos acceder a ellas. Para que esto ocurra se debe inicializar el *constructor* `__init__` para que se le puedan pasar parámetros (aunque podrías no poner paránetros). El único parámetro que si se agrega por defecto es `self` que lo que hace es aplicar información o métodos sobre el mismo objeto. En el ejemplo anterios le pasamos una tupla al objeto `Prueba1`, y se ha guardado esa tupla en la instancia `argumento1`. Esto también puede aplicar con los métodos\n"
   ]
  },
  {
   "cell_type": "code",
   "execution_count": null,
   "id": "7abd765f-119e-4919-a6b3-ab49bc9deeec",
   "metadata": {},
   "outputs": [],
   "source": [
    "class Prueba2:\n",
    "    atributo1 = {}\n",
    "    atributo2 = (1,2)\n",
    "    def __init__(self,arg1):\n",
    "        self.argumento1 = arg1 #Nota que argumento1 es el nombre de la instancia mientras que su valor asociado es arg1\n",
    "    def funcion1(self):\n",
    "        #Al poner self quiere decir que no se le pasan argumentos a esta función\n",
    "        print(\"Se ejecuta lo que sea que aquí se poonga\")\n",
    "    def NumsCatalan(self,N):\n",
    "        #Ahora esta función admite solo 1 parámetro el cual se le puede hacer lo que sea\n",
    "        C0 = 1\n",
    "        for n in range(N):\n",
    "            Cn = (4*n+2)/(n+2)*C0\n",
    "            C0 = Cn\n",
    "            print(Cn)\n",
    "    def factoresPrimos(self,a,n):\n",
    "        #ahora una función que tenga dos parámetros y return\n",
    "        r = []\n",
    "        for i in range(2,n):\n",
    "            if a%i == 0:\n",
    "                r.append(i)\n",
    "        return r\n",
    "    "
   ]
  },
  {
   "cell_type": "code",
   "execution_count": null,
   "id": "22c72bd7-cdcb-482c-9f08-2126f7a8a343",
   "metadata": {},
   "outputs": [],
   "source": [
    "d = Prueba2([0])"
   ]
  },
  {
   "cell_type": "code",
   "execution_count": null,
   "id": "e56fcbef-1d05-4497-b9ae-1d4e37c7d8a4",
   "metadata": {},
   "outputs": [],
   "source": [
    "d.argumento1 "
   ]
  },
  {
   "cell_type": "code",
   "execution_count": null,
   "id": "91b679a3-b449-4d26-bf2a-37cec4916789",
   "metadata": {},
   "outputs": [],
   "source": [
    "d.funcion1()"
   ]
  },
  {
   "cell_type": "code",
   "execution_count": null,
   "id": "1b71b2c6-cb8e-4287-8a7b-cf934d15d8fc",
   "metadata": {},
   "outputs": [],
   "source": [
    "d.NumsCatalan(10)"
   ]
  },
  {
   "cell_type": "code",
   "execution_count": null,
   "id": "1b842a30-480e-439d-bd51-6f5869a2d480",
   "metadata": {},
   "outputs": [],
   "source": [
    "d.factoresPrimos(30,30)"
   ]
  },
  {
   "cell_type": "markdown",
   "id": "eead8681-344e-4fb4-96e9-a068bfa6cc23",
   "metadata": {},
   "source": [
    "Hasta aqui dejamos esta breve introducción de OOP, la finalidad no es volverlos expertos con estos temas sino que lo conozcan y que puedan indagar por su cuenta dependiendo de su curiosidad, aún hay muuuucho que explorar por delante. Por otro lado también espero que con esto tengan una mejor idea de como se estructura Python y que sepan de donde vienen las cosas y como se definen. A lo largo de los temas que nos pidieron iré haciendo breves comentarios sobre esta sección para ir relacionando la información presentada."
   ]
  },
  {
   "cell_type": "markdown",
   "id": "f7ec1afc-c1d3-48f4-8fdc-b459d280d5cf",
   "metadata": {},
   "source": [
    "# Trabajar con archivos de texto\n",
    "\n",
    "En este apartado se van a contemplar:\n",
    "\n",
    "* Lectura de archivo de texto\n",
    "* Uso de readlines()\n",
    "* Uso de split()\n",
    "* Graficar archivos de texto\n",
    "* Escritura de archivos de texto dada una lista y/o arreglo\n",
    "* Uso de la librería pandas (extra)\n",
    "\n",
    "La manera en la que hemos trabajado en el curso con la manipulación de archivos de texto es en su forma más básica y tiene ciertas limitaciones, además de que hay que aprender a usar un cierto número de métodos y generar estructuras de control para poder extraer de forma conveniente la información de los txt. Sin embargo la librería `pandas` se especializa en la manipulación de archivos de texto, y cuenta con una amplia gama de métodos que simplifica las tareas de manipulación. Desde luego que se pretende dar una introducción y más adelante con el tiempo quizás tengamos una continuación de este material. \n",
    "\n",
    "Antes de querer leer abrir, leer o manipular cualquier archivo ya sea `.txt` o `.csv` es necesario que primero vean su estructura, vean que tipo de separadores tiene, si son tabuladores, espacios, comas, #, etx. También es necesario que vean cuantas columnas tiene su archivo o si más bien se trata de una matriz. Todo eso es muy importante para que sepan que tipo estrategias van a usar para la extracción."
   ]
  },
  {
   "cell_type": "markdown",
   "id": "744e7f18-12bd-4c47-bb16-32f233871837",
   "metadata": {},
   "source": [
    "## Lectura de archivo de texto\n",
    "\n",
    "Para poder disponer de la información de un archivo de texto primero y antes que nada es necesario utilizar la función `open()` y asociarla a un objeto del cual podremos realizar algunas acciones; al abrir el archivo, su información solamente queda disponible al instante por lo que se debe guardar en alguna variable, si no se guarda la información se libera y para volver a acceder a ella es necesario volver a ejecutar `open()`. Cabe mencionar que esta función puede abrir archivos `.txt`, `.csv`, `.dat`, y todas las acciones que veremos a continuación aplican igual (me parece) para todo tipo de archivo."
   ]
  },
  {
   "cell_type": "code",
   "execution_count": null,
   "id": "dab42a39-6c05-433a-b15e-c15081d380f0",
   "metadata": {},
   "outputs": [],
   "source": [
    "#abrimos el archivo (se los voy a pasar) y lo asignamos al objeto archivo\n",
    "#Procuren ingresar el nombre del archivo así como la ruta en donde se encuentra\n",
    "archivo = open(\"Ising 50.csv\")"
   ]
  },
  {
   "cell_type": "markdown",
   "id": "24801d80-d13c-4daf-92a2-2398977b7e32",
   "metadata": {},
   "source": [
    "Veamos ahora las funciones principales para poder ver que tiene el objeto archivo. Noten que si ejecutan cualquiera de esas funciones dos veces, la segunda vez regresa \"algo\" vacío, ya sea una lista vacía, una cadena vacía etc. "
   ]
  },
  {
   "cell_type": "code",
   "execution_count": null,
   "id": "538dee32-3803-4daf-bded-77cdddbca57e",
   "metadata": {},
   "outputs": [],
   "source": [
    "#PAra poder guardar esa información y que permanezca fija en un espacio de memoria debemos asignar a otro objeto\n",
    "contenido = archivo.read()"
   ]
  },
  {
   "cell_type": "code",
   "execution_count": null,
   "id": "fb970451-6f28-4946-a83a-d9e59c8f978d",
   "metadata": {},
   "outputs": [],
   "source": [
    "#read() solamente nos muestra que contiene el archivo. Al ejecutar una vez nos mostrará el contenido y \n",
    "#al ejecutar una segunda vez nos mostrará una cadena vacía, significa que ya se ha perdido la información del objeto.\n",
    "\n",
    "#archivo.read()"
   ]
  },
  {
   "cell_type": "code",
   "execution_count": null,
   "id": "20cb34fe-a774-4aa9-a502-b3f717d10e28",
   "metadata": {},
   "outputs": [],
   "source": [
    "#Pero para que no se ejecute de nuebo archivo.read() ponemos el objeto contenido en otra celda, \n",
    "#al ejecutar N veces esta celda, su información no se perderá pues ya tiene un espacio de memoria asignado.\n",
    "\n",
    "#Si quieres ver el contenido quita el ;\n",
    "contenido;"
   ]
  },
  {
   "cell_type": "markdown",
   "id": "e795373e-c22c-484e-8c9d-fea670c82231",
   "metadata": {},
   "source": [
    "Recuerda que si ejecutas una segunda vez cualquier método de `archivo`, la información se perderá y ha que abrir de nuevo la información. Investigando me encontré que hay otro parámetro (además del nombre del archivo) que se le pasa a la función `open()` con 5 opciones diferentes:\n",
    "* ‘r’: Por defecto, para leer el fichero.\n",
    "* ‘w’: Para escribir en el fichero.\n",
    "* ‘x’: Para la creación, fallando si ya existe.\n",
    "* ‘a’: Para añadir contenido a un fichero existente.\n",
    "* ‘b’: Para abrir en modo binario.\n",
    "\n",
    "Pero por ahora solo nos concentraremos en 'r' y a lo mucho 'w'. El archivo que estamos empleando son los datos que obtuve en una práctica sobre el modelo de Ising, donde se calcula la magnetización, la energía por sitio, la susceptibilidad magnética y la capacidad calorifica para un conjunto de temperaturas. Se realizó para redes de 50 nodos (archivo actual), 100 y 200 nodos; por red me refiero más bien a una cuadrícula. Por tanto veamos como obtener dicha información y guardarlas en listas:"
   ]
  },
  {
   "cell_type": "markdown",
   "id": "93c6138c-af25-4c1f-9de0-2e136da8baac",
   "metadata": {},
   "source": [
    "## Uso de `readline()`, `readlines()`, `split()`, `map()`"
   ]
  },
  {
   "cell_type": "code",
   "execution_count": null,
   "id": "345c8725-6507-4f6b-96db-8044a6da1a63",
   "metadata": {},
   "outputs": [],
   "source": [
    "temperatura = []\n",
    "energia = []\n",
    "magnetizacion = []\n",
    "sus_magn = []\n",
    "cap_calor = []\n",
    "#Se abre el archivo y se asimila al objeto file (que es creado con esta linea)\n",
    "with open(\"Ising 100.csv\",'r') as file:\n",
    "    #Para cada elemento del objeto file, donde cada elemento es una fila del archivo\n",
    "    for line in file:\n",
    "        t,E,M,CE,SM = map(float,line.split())\n",
    "        temperatura.append(t)\n",
    "        energia.append(E)\n",
    "        magnetizacion.append(M)\n",
    "        sus_magn.append(SM)\n",
    "        cap_calor.append(CE)\n",
    "        "
   ]
  },
  {
   "cell_type": "markdown",
   "id": "264c0bcd-21ba-40aa-96fd-6177524fff05",
   "metadata": {},
   "source": [
    "¿Como funciona la celda anterior? Primero definimos 5 listas vacías para cada columna del archivo .csv, cada lista contendrá su información. Después aplicamos una técnica para ir extrayendo cada fila del archivo e ir guardando cada dato en cada una de las listas. Para ello utilizamos `open()` nuevamente y lo asociamos al objeto `file`. Cada elemento de este objeto será una fila que contendrá cada uno de los 5 datos por lo tanto definimos un ciclo for que itere sobre todas las filas, en este caso el índice del for es `line` (para términos prácticos).\n",
    "\n",
    "Ahora vemos la función `map()`, esta es una función muy útil: se emplea sobre arreglos o listas y lo que hace es aplicar una función a cada uno de los elementos de la lista dada:\n",
    "```Python\n",
    "map(función,lista)\n",
    "```\n",
    "En este caso lo que se aplica es la conversión de tipo float a cada uno de los elementos de `line.split()`. Por otro lado, `split()` es un método que separa en componentes un conjunto de datos: puede ser una cadena separada por espacios, o una lista separada por tabuladores como es en nuestro caso, al separar la información de acuerdo a un marcador (espacios, tabuladores, etc) la información se guarda en una lista y cada elemento es de tipo `string`. Sin embargo nosotros requerimos trabajar con los números y aquí es donde usamos map para convertir a flotantes los elementos de esa lista.\n",
    "\n",
    "Una vez convertidos los números a flotantes, se rescata cada uno por medio de una variable: en este caso `t` le corresponde guardar la primera entrada de la lista y así para el resto de variables. Al tener esta información ahora se puede utilizar el método `append()` para ir guardando cada iteración en cada una de las listas antes definidas.\n",
    "\n",
    "Veamos ahora como realizar la misma tarea usando `readline()` y `readlines()`"
   ]
  },
  {
   "cell_type": "code",
   "execution_count": null,
   "id": "86b64449-5c8c-44b2-a00e-dd2dee77164f",
   "metadata": {},
   "outputs": [],
   "source": [
    "I100 =  open(\"Ising 100.csv\")\n",
    "temperatura = []\n",
    "energia = []\n",
    "magnetizacion = []\n",
    "sus_magn = []\n",
    "cap_calor = []\n",
    "for line in I100:\n",
    "    line = line.split()\n",
    "    line = [float(i) for i in line]\n",
    "    temperatura.append(line[0])\n",
    "    energia.append(line[1])\n",
    "    magnetizacion.append(line[2])\n",
    "    cap_calor.append(line[3])\n",
    "    sus_magn.append(line[4])\n",
    "I100.close()"
   ]
  },
  {
   "cell_type": "markdown",
   "id": "ab425f55-5e9f-4a99-8f6f-61301992f2a4",
   "metadata": {},
   "source": [
    "Esta es otra alternativa para extraer información usando un iterador sobre el objeto que abre al archivo `I100`. Es como si cada `line` de la iteración fuera un `readline()`, recuerda que este método lo que hace es leer cada línea del archivo por cada ejecuión que realizas hasta que se termine el archivo, intenta hacer `I100.readline()` $N$ veces e irás viendo como te muesrta cada línea del archivo en cada ejecución.\n",
    "\n",
    "Nuevamente definimos los arreglos y el ciclo for donde cada `line` actúa como un `readline()`, eso nos viene bien porque nada más faltaría realizar el `split()` y la conversión de sus elementos a `float`; nota que en este caso la conversión la hice por lista de compresión. Al final `line` termina convitiéndose en una lista de 5 flotantes a los que podemos acceder y agregar a cada una de las listas propuestas. \n",
    "\n",
    "En este caso y el anterior debes de saber que columna y por ende que posición del dato corresponde con cada lista, para evitar que se te mezclen la información. Veamos un último caso con `readlines()`"
   ]
  },
  {
   "cell_type": "code",
   "execution_count": null,
   "id": "18de8cfe-bf35-43ab-b416-d8690379883d",
   "metadata": {},
   "outputs": [],
   "source": [
    "#si tu archivo lo tienes en alguna otra carpeta ajena a este notebook te recomiendo utilizar esta variable string\n",
    "#anexando la ruta y agregándola a open(). En mi caso el archivo si se encuentra en mi directorio actual por lo que solo\n",
    "#paso el nombre del archivo, recuerda que a la ruta al final hay que ponerle el nombre del archivo\n",
    "ruta = \"Ising 200.csv\"\n",
    "I100 = open(ruta,'r')\n",
    "lineas = I100.readlines()\n",
    "I100.close()"
   ]
  },
  {
   "cell_type": "code",
   "execution_count": null,
   "id": "01b55dd9-bc44-445d-87b9-8d371c5e9889",
   "metadata": {},
   "outputs": [],
   "source": [
    "temperatura = []\n",
    "energia = []\n",
    "magnetizacion = []\n",
    "sus_magn = []\n",
    "cap_calor = []\n",
    "for linea in lineas:\n",
    "    t,E,M,CE,SM = linea.split(\"\\t\")\n",
    "    temperatura.append(float(t))\n",
    "    energia.append(float(E))\n",
    "    magnetizacion.append(float(M))\n",
    "    cap_calor.append(float(CE))\n",
    "    sus_magn.append(float(SM))"
   ]
  },
  {
   "cell_type": "markdown",
   "id": "309c099c-77fb-470b-ad5e-48e4a02bca27",
   "metadata": {},
   "source": [
    "En este tercer y último caso abrimos y cerramos el archivo en una misma celda de código, sin embargo para rescatar la información y poder permitir que el archivo se cierre adecuadamente usamos `readlines()` que literalmente guarda en una lista todas las líneas del archivo en formato string y con su separador, en nuestro caso nuestro archivo se separa por medio de tabuladores. El objeto `lineas` contiene toda la información del archivo en tipo `string`, usamos nuevamente un iterador y en este caso a `linea` le vamos a aplicar `split()` con la opción de tabulador `\\t`. Aplicamos y cada entrada de línea la guardamos en las variables que aparecen y al final a la hora de realizar el `append()` hacemos la conversión a flotante y listo.\n",
    "\n",
    "Cualquiera de las opciones es válida, por lo que puedes ver existen múltiples maneras de resolver un mismo problema solo es cuestión de ver cual es la más simple o cual nos gusta más. Nota que al final de los últimos dos ejemplos aplicamos `close()`, esto es para cerrar el archivo y no preocuparnos más por él."
   ]
  },
  {
   "cell_type": "markdown",
   "id": "c5ba7636-5ce9-4ce1-90f0-fc07710a9e3c",
   "metadata": {},
   "source": [
    "## Graficación de archivos \n",
    "\n",
    "Como hemos visto, `open()` para cualquier tipo de archivos, por ahí vi que existen unos archivos con extensión `.mtx` que yo me los he encontrado en listas de adyacencia para la formación de grafos. Ya al tener tus listas listas xd pues puede proceder a graficar la información de tus archivos, tomemos las 5 listas que tomamos para graficar, las cuatro cantidades estan en función de la temperatura así hay que realizar 4 gráficas."
   ]
  },
  {
   "cell_type": "code",
   "execution_count": null,
   "id": "713ba064-321e-4159-9904-de6d71026455",
   "metadata": {},
   "outputs": [],
   "source": [
    "h = 0.9#parametro para jugar con el tamaño de la imagen\n",
    "fig, axs = plt.subplots(nrows=2, ncols=2, figsize = (10*h,7*h))  \n",
    "\n",
    "temperatura_critica = 1.134592657106511\n",
    "\n",
    "axs[0,0].plot(temperatura,energia, 'r-')\n",
    "axs[0,0].set_title(\"Energía por sitio\")\n",
    "axs[0,0].set_xlabel(\"Temperatura\")\n",
    "axs[0,0].set_ylabel(\"Energía\")\n",
    "axs[0,0].axvline(temperatura_critica)\n",
    "\n",
    "axs[0,1].plot(temperatura,magnetizacion, 'g.-')\n",
    "axs[0,1].set_title(\"Magnetización\")\n",
    "axs[0,1].set_xlabel(\"Temperatura\")\n",
    "axs[0,1].set_ylabel(\"Magnetización\")\n",
    "axs[0,1].axvline(temperatura_critica)\n",
    "\n",
    "axs[1,0].plot(temperatura,sus_magn, 'b.-')\n",
    "axs[1,0].set_title(\"Susceptibilidad magnética\")\n",
    "axs[1,0].set_xlabel(\"Temperatura\")\n",
    "axs[1,0].set_ylabel(\"Susceptibilidad magnética\")\n",
    "axs[1,0].axvline(temperatura_critica)\n",
    "\n",
    "axs[1,1].plot(temperatura,cap_calor, 'y.-')\n",
    "axs[1,1].set_title(\"Capacidad calorífica\")\n",
    "axs[1,1].set_xlabel(\"Temperatura\")\n",
    "axs[1,1].set_ylabel(\"Capacidad calorífica\")\n",
    "axs[1,1].axvline(temperatura_critica)\n",
    "\n",
    "plt.tight_layout()\n",
    "plt.show()"
   ]
  },
  {
   "cell_type": "markdown",
   "id": "b01a659b-5eb3-4f7d-92ef-a5d22a97f34c",
   "metadata": {},
   "source": [
    "## Escritura de archivos\n",
    "\n",
    "Así como podemos abrir un archivo y extraer su información para graficarla (por ejemplo), podemos escribir información en archivos al menos en formato `.txt` y `.csv`. Como se ha visto, es conveniente guardar la información en archivos para que en cualquier momento podamos acceder a ella. Supongamos que tenemos la solución del oscilador armónico simple (datos reales), queremos guardar esa información en un archivo y la manera es la siguiente:"
   ]
  },
  {
   "cell_type": "code",
   "execution_count": null,
   "id": "5b44f7e4-82c4-4b21-bfcb-bd371e55e3b5",
   "metadata": {},
   "outputs": [],
   "source": [
    "#Como aún no hemos visto métodos de solución de EDO simplemente voy a usar la función coseno\n",
    "xs = np.arange(0,10,0.1) #Esta función es equivalente a range pero esta si admite un step float\n",
    "ys = np.array([np.cos(i) for i in xs])\n",
    "#guardamos la información en data en forma de tuplas\n",
    "data = [(x,y) for x,y in zip(xs,ys)]\n",
    "plt.plot(xs,ys)"
   ]
  },
  {
   "cell_type": "code",
   "execution_count": null,
   "id": "69bd2747-a962-44cd-884f-f76a85ce6bd8",
   "metadata": {},
   "outputs": [],
   "source": [
    "#Para poder usar open() con la opción write\n",
    "with open('data.txt', 'w') as file:\n",
    "    for item in data:\n",
    "        file.write(str(item) + '\\n')"
   ]
  },
  {
   "cell_type": "code",
   "execution_count": null,
   "id": "595c6695-90d6-42ea-a5f5-51ee5b781eed",
   "metadata": {},
   "outputs": [],
   "source": [
    "#Abrimos el archivo para extraer de nuevo la información\n",
    "ruta = \"data.txt\"\n",
    "datos = open(ruta,'r')\n",
    "lineas = datos.readlines()\n",
    "I100.close()"
   ]
  },
  {
   "cell_type": "code",
   "execution_count": null,
   "id": "040e77fe-4c5f-4287-a8af-e5cae1168a64",
   "metadata": {},
   "outputs": [],
   "source": [
    "xs = []\n",
    "ys = []\n",
    "for line in lineas:\n",
    "    x, y = line[1:-2].split(', ')\n",
    "    xs.append(float(x))\n",
    "    ys.append(float(y))\n",
    "\n",
    "plt.plot(xs,ys)"
   ]
  },
  {
   "cell_type": "markdown",
   "id": "3d7e4ffe-9e73-45cd-b0d6-90a35e1b26d5",
   "metadata": {},
   "source": [
    "**Explicación:** Es conveniente armar un objeto `data` que obtenga la información de`xs` y la `ys`, para ello creamos una lista por compresión donde utilizaremos `zip()` para que extraiga elemento a elemento de`xs` y `ys` y lo guarde en tuplas. Esto es para que al momento de usar write podamos leer a `data` linea por linea e ir escribiendola en el archivo de texto. Si te das cuenta a la hora de escribir en el archivo, el método `write()` pide a fuerzas que las líneas sean convertidas a `string` y además agrega un salto de línea. Es por ello que al abrir y extraer la info de un archivo hay que hacer la separación y conversión a números.\n",
    "\n",
    "En este caso particular hay que realizar un poco más de talacha para poder extraer la información de `data.txt` ya que las líneas se ven de la siguiente forma:\n",
    "```\n",
    "'(0.0, 1.0)\\n'\n",
    "```\n",
    "para poder extraer únicamente los números debemos de hacer que split ignore los paréntesis y el salto de línea, para ello vamos a enfocarnos en un `slice` de lineas en concreto\n",
    "```\n",
    "x, y = line[1:-2].split(', ')\n",
    "```\n",
    "Como line es una cadena la primera posición (index 0) es ocupada por el paréntesis entonces vamos a considerar la información desde la posición 1 que es el primer número hasta la antepenúltima posición que se representa con el `-2`, ya que la última es el salto de línea y la penúltima es el otro paréntesis. Con este slice ya nada mas consideramos lo siguiente\n",
    "```\n",
    "0.0, 1.0\n",
    "```\n",
    "Ahora podemos aplicar `split()` definiento `', '`como parametro para que separe los valores. Lo siguiente es guardar en las listas realizando la conversión a float. Seguramente existen formas mas eficientes de realizar la escritura de archivos pero por el momento a mi se me ocurrió esta y debo decir que si se me hizo algo engorroso. La escritura de `.csv` es mucho mas conveniente y simple, pero hay que importar su librería."
   ]
  },
  {
   "cell_type": "code",
   "execution_count": null,
   "id": "ad6c4e99-d535-42d8-8d70-f6862d95f755",
   "metadata": {},
   "outputs": [],
   "source": [
    "#Escribir archivos en .csz\n",
    "import csv\n",
    "\n",
    "with open('data.csv', 'w', newline='') as file:\n",
    "    writer = csv.writer(file)\n",
    "    writer.writerows(data)"
   ]
  },
  {
   "cell_type": "code",
   "execution_count": null,
   "id": "b1c10c9a-2dc8-4f85-9aa0-143f097752c3",
   "metadata": {},
   "outputs": [],
   "source": [
    "#Abrimos el archivo para extraer de nuevo la información\n",
    "ruta = \"data.csv\"\n",
    "datos = open(ruta,'r')\n",
    "lineas = datos.readlines()\n",
    "I100.close()"
   ]
  },
  {
   "cell_type": "code",
   "execution_count": null,
   "id": "a2d50f51-5282-477e-a451-91eebe890ac2",
   "metadata": {},
   "outputs": [],
   "source": [
    "xs = []\n",
    "ys = []\n",
    "for line in lineas:\n",
    "    x, y = line.split(\",\")\n",
    "    xs.append(float(x))\n",
    "    ys.append(float(y))\n",
    "\n",
    "plt.plot(xs,ys)"
   ]
  },
  {
   "cell_type": "markdown",
   "id": "af699670-b064-4e6f-bae3-5d06ec92ec83",
   "metadata": {},
   "source": [
    "En este caso vemos que hay un parámetro extra en la función `open()` que es `newline=''`, lo que hace es deshabilitar el salto de linea `\\n` y sustituirlo por `''`, te recomiendo que quites esta opción y veas como se genera el archivo resultante para que notes lo que genera. Al llamar `csv` accedemos a sus funciones y métodos, en particular `writer()` y  `writerrows()` harán toda la chamba. Para extraer de nuevo este archivo solo basta con poner en el split la `','` como separador y listo.\n",
    "\n",
    "En mi opinión es mejor trabajar con archivos `.csv` que `.txt` asi que les recomiendo que se familiaricen más con ellos."
   ]
  },
  {
   "cell_type": "markdown",
   "id": "1cd7bacc-9ea5-4715-8790-7bb4a04199f9",
   "metadata": {},
   "source": [
    "## Uso de pandas (extra)\n",
    "\n",
    "Se puede emplear esta librería para poder leer y escribir archivos, el elemento por defecto de esta librería son los `DataFrames` que son estructuras de dato que sirven para guardar información, algo asi como tablas."
   ]
  },
  {
   "cell_type": "code",
   "execution_count": null,
   "id": "71b48ff0-1bc2-4aa7-b7d1-d2bf0e6a2c9b",
   "metadata": {},
   "outputs": [],
   "source": [
    "ruta = 'Ising 200.csv'\n",
    "\n",
    "#buen hábito, poner los siguientes argumentos\n",
    "tabla = pd.read_csv(ruta,\n",
    "                    #nrows = 10,       #Despliega el número de filas que quieras\n",
    "                    #skiprows = 14,    #Ignora cierto número de filas\n",
    "                    header = None,     #Ignora a la primer fila como el título de cada columna.\n",
    "                    sep = '\\t',        #Tipo de separador de los datos\n",
    "                    #usecols = [0,1]   #Selecciona columnas que quieras que se visualicen.\n",
    "                   )        "
   ]
  },
  {
   "cell_type": "code",
   "execution_count": null,
   "id": "0b13d09b-d8f5-4569-b7e1-f9789d4433ce",
   "metadata": {},
   "outputs": [],
   "source": [
    "#Si quieres visualizar el contenido, quita el ;\n",
    "tabla;"
   ]
  },
  {
   "cell_type": "markdown",
   "id": "ca405f21-5f8c-4024-9ec4-2f5e05d301ce",
   "metadata": {},
   "source": [
    "De cierta manera usar `pandas` es mucho más eficiente que las técnicas antes vistas. Además de que es muy util tener una tabla (DataFrame) con toda la información de nuestro archivo. Te recomiendo que realices `tabla.read_` y apretes `tab` para que veas todas las opciones que posee; te darás cuenta que no lee `.txt` xd pero no hay mucho problema porque realmente usar archivos `.csv` será considerablemente mejor.\n",
    "\n",
    "La celda anterior es una sintaxis básica, y útil para cuando no sepas el contenido del archivo. Puedes usar `nrows` para saber cuantas filas desplegar y darte una idea de la estrcutura que tiene el archivo, puedes usar `skiprows` si es que las primeras filas tienen alguna leyenda informativa que suele ser común en algunos archivos. Utilizar `header` si tu archivo tiene una fila de títulos o no los tiene, y por último `sep` que te servirá para notar el tipo de separador de tu archivo.\n",
    "\n",
    "He de decir que con el método `.read_csv` puedes leer también archivo `.txt` pero tiene algunos problemas con el parámetro `sep`. Ahora por último veamos como grabar información en archivos de texto con pandas."
   ]
  },
  {
   "cell_type": "code",
   "execution_count": null,
   "id": "e773483b-a19d-4962-bb38-89d7e16febf8",
   "metadata": {},
   "outputs": [],
   "source": [
    "#Usamos ahora la función seno, pa cambiarle\n",
    "xs = np.arange(0,10,0.1) #Esta función es equivalente a range pero esta si admite un step float\n",
    "ys = np.array([np.sin(i) for i in xs])\n",
    "#guardamos la información en data en forma de tuplas\n",
    "data = [(x,y) for x,y in zip(xs,ys)]"
   ]
  },
  {
   "cell_type": "code",
   "execution_count": null,
   "id": "49bc71de-4242-4d45-9184-ae420c2958a0",
   "metadata": {},
   "outputs": [],
   "source": [
    "#Teniendo la información en data, falta convertir la información a un dataframe\n",
    "data = pd.DataFrame(data)\n",
    "#podemos utilizar las columnas de la tabla o del dataframe como elementos para realizar una gráfica.\n",
    "plt.plot(data[0],data[1])"
   ]
  },
  {
   "cell_type": "code",
   "execution_count": null,
   "id": "b52484fd-3a72-42be-935a-04594117de74",
   "metadata": {},
   "outputs": [],
   "source": [
    "#Para grabar la información es tan simple como realizar lo siguiente\n",
    "data.to_csv(\"seno.csv\",index=False,sep = \"\\t\")"
   ]
  },
  {
   "cell_type": "code",
   "execution_count": null,
   "id": "ed69eb98-a969-4f08-838a-5836df69c189",
   "metadata": {},
   "outputs": [],
   "source": [
    "ruta = 'seno.csv'\n",
    "\n",
    "#buen hábito, poner los siguientes argumentos\n",
    "tabla = pd.read_csv(ruta,\n",
    "                    #nrows = 10,       #Despliega el número de filas que quieras\n",
    "                    #skiprows = 14,    #Ignora cierto número de filas\n",
    "                    header = None,     #Ignora a la primer fila como el título de cada columna.\n",
    "                    sep = '\\t',        #Tipo de separador de los datos\n",
    "                    #usecols = [0,1]   #Selecciona columnas que quieras que se visualicen.\n",
    "                   ) "
   ]
  },
  {
   "cell_type": "markdown",
   "id": "12bb51c9-21d4-4121-8ba6-b83f0c87f820",
   "metadata": {},
   "source": [
    "Para poder guardar datos en archivos `.csv` primero hay que generarlos y estructurar las filas en tuplas para poder o en todo caso definir desde el principio un `DataFrame` con la información en cada una de sus columnas. Una vez teniendo tu objeto `DataFrame` (para verificar esto aplica `type(data)`) únicamente hay que utilizar el método `to_csv()` en donde se le pasa como parámetro el nombre del archivo, `index=False` y el tipo de separador que quieras (por defecto son `','`). Realizar el `index=False` es importante porque si no te genera una primera columna con todos los ínices de cada fila y pues comúnmente no se necesita hasta que se necesita cx.\n",
    "\n",
    "Para rescatar nuevamente la información aplicamos lo de antes y listo. Hay un método interesante que me he encontrado `to_latex()`; no se si han hecho tablas en Latex pero llega a ser tedioso, pues con este método olvidate de escribir mucho código para generar tus tablas, el método ya te lo devuelve."
   ]
  },
  {
   "cell_type": "code",
   "execution_count": null,
   "id": "9843f0be-e151-45b1-b477-4458ed04d5dc",
   "metadata": {},
   "outputs": [],
   "source": [
    "#Si quieres ver la información quita el ;\n",
    "tabla.to_latex();"
   ]
  },
  {
   "cell_type": "markdown",
   "id": "e4cd4705-9ed1-481b-a347-9330916258df",
   "metadata": {},
   "source": [
    "# Graficación\n",
    "\n",
    "Otro de los temas que fueron solicitados fue graficación en distintos rubros:\n",
    "\n",
    "* Density plots\n",
    "* Graficar complejos\n",
    "* Graficos en 3D\n",
    "* Graficas de caos y mapeo logístico\n",
    "\n",
    "Para este apartado vamos a recrear ejercicios de la tarea 3 como lo son el de caminatas aleatorias y el mapeo logístico. Además voy a utilizar otra distribución de datos para generar otro histograma."
   ]
  },
  {
   "cell_type": "markdown",
   "id": "f9ad9293-82c0-4038-8ce1-06564429355c",
   "metadata": {},
   "source": [
    "## Caminatas aleatorias\n",
    "\n",
    "El concepto de este ejercicio es simple, dar un paso a la derecha o a la izquierda dada una probabilidad. En realidad este ejercicio lo tuvieron bien todos, solo quiero utilizarlo para ver las formas de creación de histogramas."
   ]
  },
  {
   "cell_type": "code",
   "execution_count": null,
   "id": "59a73291-69f3-4b9a-8cf2-04a54e2a0aa5",
   "metadata": {},
   "outputs": [],
   "source": [
    "#Camminata aleatoria\n",
    "def caminataA(N,p):\n",
    "    caminata = [0]\n",
    "    sum = 0\n",
    "    for i in range(N):\n",
    "        if np.random.rand() > p:\n",
    "            sum += 1\n",
    "            caminata.append(sum)\n",
    "        else:\n",
    "            sum -= 1\n",
    "            caminata.append(sum)\n",
    "    return caminata\n",
    "N = 100\n",
    "p = 0.5\n",
    "caminata = caminataA(N,p)\n",
    "plt.figure(figsize=(7,5))\n",
    "plt.xlabel(\"Tiempo\")\n",
    "plt.ylabel(\"Caminata\")\n",
    "plt.title(\"Caminata aleatoria\")\n",
    "plt.plot(range(N+1),caminata,'k.')\n",
    "plt.plot(range(N+1),caminata,'g-')\n",
    "plt.grid(True)\n",
    "plt.show()"
   ]
  },
  {
   "cell_type": "code",
   "execution_count": null,
   "id": "9a3bad30-144a-4f0d-bd82-b7b256112809",
   "metadata": {},
   "outputs": [],
   "source": [
    "counts, bins = np.histogram(caminata,bins = range(min(caminata),max(caminata)+1))\n",
    "\n",
    "h = 0.6 #parametro para jugar con el tamaño de la imagen\n",
    "fig, (ax1,ax2) = plt.subplots(nrows=1, ncols=2, figsize = (18*h,7*h)) \n",
    "\n",
    "ax1.hist(caminata,edgecolor='black',bins = range(min(caminata),max(caminata)+1))\n",
    "ax1.set_title(\"Usando plt.hist\")\n",
    "ax1.set_xlabel(\"Valores\")\n",
    "ax1.set_ylabel(\"Frecuencia\")\n",
    "\n",
    "ax2.bar(bins[:-1], counts,edgecolor='black')\n",
    "ax2.set_title(\"Usando np.histogram y plt.bar\")\n",
    "ax2.set_xlabel(\"Valores\")\n",
    "ax2.set_ylabel(\"Frecuencia\")\n",
    "\n",
    "plt.tight_layout()\n",
    "plt.show()"
   ]
  },
  {
   "cell_type": "markdown",
   "id": "3ece70af-7635-4000-bc33-26e17bcefdc4",
   "metadata": {},
   "source": [
    "Este histograma como ya saben es para notar la frecuencia de posiciones a las que accede la caminata, esta distribución en principio es variada porque únicamente consideramos una caminata. Aqui lo importante es que tenemos dos formas de generar estos gráficos (y muy probablemente haya más). La primer forma y más sencilla es utilizando el método `plt.hist()`, lo único que requiere esta función es tu conjunto de distribuciones, quizás un parámetro de contorno `edgecolor` para poder diferenciar las barras y los bins. A varios les mencioné que es útil considerar un rango de bins que contemple a todos los valores de la distribución, es decir:\n",
    "```\n",
    "bins = range(min(caminata),max(caminata)+1)\n",
    "```\n",
    "Esto hará que sus histogramas se vean más finos y tenga cada barra su propio espacio. La segunda forma es utilizar el método de numpy `np.histogram()` que lo que hace es dada una distribución, y una configuración de bins nos regresa dos arreglos que corresponde a los conteos o la frecuencia de cada valor y los bins. Estos valores se grafican bajo el método `plt.bar(bins[:-1], counts,edgecolor='black')` y prácticamente obtendremos el mismo resultado dadas dos variantes. Ahora hagamos un histograma de 100 caminatas aleatorias:"
   ]
  },
  {
   "cell_type": "code",
   "execution_count": null,
   "id": "212366e0-f7b5-4436-97b5-d5b0d2bd53e9",
   "metadata": {},
   "outputs": [],
   "source": [
    "#b)100 caminatas aleatorias\n",
    "caminatas = []\n",
    "p = 0.5\n",
    "N = 100\n",
    "for i in range(100):\n",
    "    caminata = caminataA(N,p)\n",
    "    caminatas.append(caminata)\n",
    "\n",
    "plt.figure(figsize=(8,8))\n",
    "plt.xlabel(\"Tiempo\")\n",
    "plt.ylabel(\"Caminatas\")\n",
    "plt.title(\"Caminatas aleatorias\")\n",
    "for i in range(len(caminatas)):\n",
    "    plt.plot(caminatas[i])\n",
    "plt.show()"
   ]
  },
  {
   "cell_type": "code",
   "execution_count": null,
   "id": "feb39f11-6490-4d30-bbe6-240191143860",
   "metadata": {},
   "outputs": [],
   "source": [
    "data = caminatas  # Tu lista de 100 listas\n",
    "data = np.concatenate(caminatas)\n",
    "y,x = np.histogram(data,bins=range(min(data),max(data)+1))\n",
    "\n",
    "h = 0.6 #parametro para jugar con el tamaño de la imagen\n",
    "fig, (ax1,ax2) = plt.subplots(nrows=1, ncols=2, figsize = (18*h,7*h))  \n",
    "\n",
    "ax1.hist(data,bins=range(min(data),max(data)+1),edgecolor='black')\n",
    "ax1.set_title(\"Usando plt.hist\")\n",
    "ax1.set_xlabel(\"Valores\")\n",
    "ax1.set_ylabel(\"Frecuencia\")\n",
    "ax2.bar(x[:-1], y, edgecolor='black')\n",
    "ax2.set_title(\"Usando np.histogram y plt.bar\")\n",
    "ax2.set_xlabel(\"Valores\")\n",
    "ax2.set_ylabel(\"Frecuencia\")\n",
    "plt.tight_layout()\n",
    "plt.show()"
   ]
  },
  {
   "cell_type": "markdown",
   "id": "595b4c32-b906-44ec-b6a6-ffd6bb2d0f71",
   "metadata": {},
   "source": [
    "Lo que hacemos es crear una lista vacía y guardar cada una de las 100 caminatas en esa lista, por lo tatno tendrás una lista de 100 listas. Como tal esto no lo podemos hacer histograma porque necesitamos que una única lista sea la distribución, por ello usamos `np.concatenate()` pasándole como argumento la lista de 100 listas y con ello tenemos la distribución lista. Lo único que resta es realizar los mismos pasos que antes y graficar el histograma usando `plt.hist()` o `plt.bar()` (con los datos de `np.histogram()`).\n",
    "\n",
    "Vamos a trabajar con otra distribución y para ello usaremos pandas."
   ]
  },
  {
   "cell_type": "markdown",
   "id": "cd039f3c-f14b-4a23-8beb-870d5dd931e4",
   "metadata": {},
   "source": [
    "## Histogramas usando pandas"
   ]
  },
  {
   "cell_type": "code",
   "execution_count": null,
   "id": "ba07429c-a3a1-4f2c-9a5e-6c6686e08159",
   "metadata": {},
   "outputs": [],
   "source": [
    "ruta = \"Diagonales.csv\"\n",
    "\n",
    "D = pd.read_csv(ruta,\n",
    "                #nrows = 10,       #Despliega el número de filas que quieras\n",
    "                #skiprows = 14,    #Ignora cierto número de filas\n",
    "                header = None,     #Ignora a la primer fila como el título de cada columna.\n",
    "                sep = '\\t',        #Tipo de separador de los datos\n",
    "                #usecols = [0,1],   #Selecciona columnas que quieras que se visualicen.    \n",
    "                   ) "
   ]
  },
  {
   "cell_type": "code",
   "execution_count": null,
   "id": "06cf87b7-57db-4f86-ae09-1456af9cabea",
   "metadata": {},
   "outputs": [],
   "source": [
    "histo = D[0].hist(bins=25, grid=True, figsize=(7,4), color='#86bf91', rwidth=0.9,edgecolor=\"black\")\n",
    "plt.title(\"Histograma usando pandas\")"
   ]
  },
  {
   "cell_type": "code",
   "execution_count": null,
   "id": "66d21d0d-c118-417d-b418-41a25c17c357",
   "metadata": {},
   "outputs": [],
   "source": [
    "#plt.hist(np.concatenate([D[i] for i in range(50)]),bins=200)"
   ]
  },
  {
   "cell_type": "code",
   "execution_count": null,
   "id": "3644726a-b378-4bb5-a1ad-9d61c5d0a2ec",
   "metadata": {},
   "outputs": [],
   "source": [
    "d = D.to_numpy().flatten()\n",
    "Djuntito = pd.DataFrame(d[d != None])\n",
    "Djuntito.hist(bins=range(int(min(d)),int(max(d)+1)), grid=True, figsize=(7,4), color='#86bf91', rwidth=0.9,edgecolor=\"black\")\n",
    "plt.title(\"Histograma de todas las columnas del dataframe\")"
   ]
  },
  {
   "cell_type": "markdown",
   "id": "d407b61d-1fa0-4cca-808f-00294e7b3be0",
   "metadata": {},
   "source": [
    "Importamos debidamente nuestros datos de `Diagonales.csv` que contiene cierta distribución. Vemos que genera una tabla de $100\\times 50$, por lo que podemos realizar dos acciones. Primero que nada, pandas tiene un método que genera histogramas `hist()` y a este se le pasan ciertos valores de estética del plot que se va a generar. Sin embargo si tengo 50 columnas y realizo\n",
    "```\n",
    "D.hist(...)\n",
    "```\n",
    "Se me van a generar 50 histogramas, para cada columna. Por lo tanto puedo seleccionar una columna y realizar su respectivo histograma\n",
    "```\n",
    "D[0].hist(...)\n",
    "```\n",
    "Si requiero un histograma general de todas las columnas será preciso concatenar las columnas, para ello debemos de convertir momentáneamente nuestro `DataFrame` en un array de numpy, aplicarle el método `flatten()` que lo que hace es concatenar el array de arrays, y de esta forma ya solo tengo un array con todos los valores posibles. Este array lo convierto a un `DataFrame` de nuevo y ahora si puedo generar el histograma de la distribución completa."
   ]
  },
  {
   "cell_type": "markdown",
   "id": "dfd088b7-3746-4c33-9d4a-c51c874811ed",
   "metadata": {},
   "source": [
    "## Graficas en 3D\n",
    "\n",
    "Utilizaré el ejemplo de las caminatas 2D y 3D"
   ]
  },
  {
   "cell_type": "code",
   "execution_count": null,
   "id": "60aba94c-8e8a-45a7-977f-a04e30c10b95",
   "metadata": {},
   "outputs": [],
   "source": [
    "#c)Caminatas aleatorias en 2D y 3D\n",
    "def caminataND(N :int,p :float,dim :int):\n",
    "    X = []\n",
    "    for i in range(dim):\n",
    "        X.append(caminataA(N,p))\n",
    "    \n",
    "    return X\n",
    "X=caminataND(500,.5,2)\n",
    "Y=caminataND(500,.5,3)"
   ]
  },
  {
   "cell_type": "code",
   "execution_count": null,
   "id": "a7dfecf8-9b87-4675-a985-35ed4d30a4d6",
   "metadata": {},
   "outputs": [],
   "source": [
    "#Para una caminata\n",
    "from mpl_toolkits.mplot3d import Axes3D\n",
    "\n",
    "X=caminataND(500,.5,2)\n",
    "Y=caminataND(500,.5,3)\n",
    "\n",
    "h = 0.6 #parametro para jugar con el tamaño de la imagen\n",
    "fig = plt.figure(figsize = (18*h,7*h)) \n",
    "\n",
    "ax1 = fig.add_subplot(121)  # 1 fila, 2 columnas, 1er subplot\n",
    "ax1.plot(X[0],X[1],'.:')\n",
    "ax1.plot(X[0][0],X[1][0],'r.')\n",
    "\n",
    "ax2 = fig.add_subplot(122, projection='3d')  # 1 fila, 2 columnas, 2do subplot\n",
    "ax2.plot(Y[0],Y[1],Y[2],'.:')\n",
    "ax2.plot(Y[0][0],Y[1][0],Y[2][2],'r.')\n",
    "\n",
    "ax1.grid()\n",
    "\n",
    "# Mostrar la figura con ambos subplots\n",
    "plt.tight_layout()  # Ajusta el espacio entre subplots\n",
    "plt.show()"
   ]
  },
  {
   "cell_type": "code",
   "execution_count": null,
   "id": "73d447b3-e2c5-4b84-a925-19a99467d4a7",
   "metadata": {},
   "outputs": [],
   "source": [
    "caminatas2D = []\n",
    "caminatas3D = []\n",
    "p = 0.5\n",
    "N = 100\n",
    "for i in range(1,100):\n",
    "    caminata = caminataND(N,p,2)\n",
    "    caminatas2D.append(caminata)\n",
    "\n",
    "for i in range(1,100):\n",
    "    caminata = caminataND(N,p,3)\n",
    "    caminatas3D.append(caminata)\n",
    "\n",
    "h = 0.7\n",
    "fig = plt.figure(figsize = (15*h,7*h)) \n",
    "ax1 = fig.add_subplot(121)\n",
    "\n",
    "for i in range(len(caminatas2D)):\n",
    "    ax1.plot(caminatas2D[i][0],caminatas2D[i][1])\n",
    "ax1.set_title(\"Caminata aleatoria 2D\")\n",
    "\n",
    "ax2 = fig.add_subplot(122, projection='3d')\n",
    "\n",
    "for i in range(len(caminatas3D)):\n",
    "    ax2.plot(caminatas3D[i][0],caminatas3D[i][1],caminatas3D[i][2])\n",
    "ax2.set_title(\"Caminata aleatoria 3D\")\n",
    "plt.tight_layout()  # Ajusta el espacio entre subplots\n",
    "plt.show()"
   ]
  },
  {
   "cell_type": "markdown",
   "id": "755ecc94-84ba-45b6-a46d-e8a841dbadcc",
   "metadata": {},
   "source": [
    "Para entender la formación de estas gráficas primero entendamos la generalización de las caminatas aleatorias; únicamente es aplicar una caminata 1D a cada eje, para ello definimos una lista vacía y la dimensión, iteramos en un `for` y en el caso de que se tengan caminatas de 2dim pues tendremos una lista con dos caminatas 1D por ejemplo. Con esto tenemos para graficar las caminatas.\n",
    "\n",
    "Para el caso de los gráficos en 3D se debe de importar `Axes3D` y solo por esta ocasión al objeto `fig` se le debe de aplicar el método `add_subplots()` y para el caso de los graficos 3d hay que agregar el parámetros `projection='3d'`.\n"
   ]
  },
  {
   "cell_type": "code",
   "execution_count": null,
   "id": "e954fdc1-02d5-4a42-a948-1b5d59224479",
   "metadata": {},
   "outputs": [],
   "source": []
  }
 ],
 "metadata": {
  "kernelspec": {
   "display_name": "Python 3 (ipykernel)",
   "language": "python",
   "name": "python3"
  },
  "language_info": {
   "codemirror_mode": {
    "name": "ipython",
    "version": 3
   },
   "file_extension": ".py",
   "mimetype": "text/x-python",
   "name": "python",
   "nbconvert_exporter": "python",
   "pygments_lexer": "ipython3",
   "version": "3.12.3"
  }
 },
 "nbformat": 4,
 "nbformat_minor": 5
}
