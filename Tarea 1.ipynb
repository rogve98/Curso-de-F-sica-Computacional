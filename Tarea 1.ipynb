{
 "cells": [
  {
   "cell_type": "markdown",
   "id": "8a51d345-6800-4d20-9cce-102490706139",
   "metadata": {},
   "source": [
    "# Tarea 1"
   ]
  },
  {
   "cell_type": "code",
   "execution_count": 3,
   "id": "9cf196d9-afba-46d1-b263-8e12d359499a",
   "metadata": {},
   "outputs": [],
   "source": [
    "import math as mt\n",
    "import numpy as np"
   ]
  },
  {
   "cell_type": "code",
   "execution_count": 4,
   "id": "2234f4f0-3198-4b1e-b0d1-506ae750bf64",
   "metadata": {},
   "outputs": [],
   "source": [
    "#Ejercicio 1\n",
    "\"\"\"\n",
    "En este caso a y b son las coordenadas ingresadas que pueden ser polares o cartesianas según sea el caso de s.\n",
    "\n",
    "Por ejemplo, si s = \"polares\" queremos realizar una conversión de coordenadas cartesiadas a polares, entonces\n",
    "a = x y b = y.\n",
    "\n",
    "Cuando s = \"cartesianas\" queremos realizar una conversión de coordenadas polares a cartesianas, entonces\n",
    "a = r y b = θ.\n",
    "\"\"\"\n",
    "def coordenadas(a,b,s):\n",
    "    if s == \"a polares\":\n",
    "        r = mt.sqrt(a**2 + b**2)\n",
    "        θ = mt.atan(b/a)\n",
    "        # θ = θ*180/mt.pi\n",
    "        return r,θ\n",
    "    elif s == \"a cartesianas\":\n",
    "        # rad = mt.radians(b) #b*mt.pi/180\n",
    "        rad=b\n",
    "        x = a*mt.cos(rad)\n",
    "        y = a*mt.sin(rad)\n",
    "        return x,y"
   ]
  },
  {
   "cell_type": "code",
   "execution_count": 5,
   "id": "5455ff7e-07db-411b-8ea5-a7da6a1e29de",
   "metadata": {},
   "outputs": [
    {
     "data": {
      "text/plain": [
       "(13.0, 0.39479111969976155)"
      ]
     },
     "execution_count": 5,
     "metadata": {},
     "output_type": "execute_result"
    }
   ],
   "source": [
    "coordenadas(12,5,\"a polares\")"
   ]
  },
  {
   "cell_type": "code",
   "execution_count": 27,
   "id": "cb74dbfa-a4e2-400e-9966-69c00b7e4d68",
   "metadata": {},
   "outputs": [
    {
     "data": {
      "text/plain": [
       "(-33.33445431453047, -10.668371738577584)"
      ]
     },
     "execution_count": 27,
     "metadata": {},
     "output_type": "execute_result"
    }
   ],
   "source": [
    "coordenadas(35,60,\"a cartesianas\")"
   ]
  },
  {
   "cell_type": "code",
   "execution_count": 31,
   "id": "b78b5bb2-0c5f-437c-b3ae-6fe0078d0ead",
   "metadata": {},
   "outputs": [
    {
     "name": "stdin",
     "output_type": "stream",
     "text": [
      "Ingresa un vector en R^3 separado por espacios 1 1 1\n",
      "Ingresa un vector en R^3 separado por espacios 2 2 2\n"
     ]
    },
    {
     "data": {
      "text/plain": [
       "6.0"
      ]
     },
     "execution_count": 31,
     "metadata": {},
     "output_type": "execute_result"
    }
   ],
   "source": [
    "#Ejercicio 2 a) Producto punto de vectores en R^3\n",
    "\n",
    "\"\"\"\n",
    "input pide al usuario ingresar los datos con sus indicaciones. Split realiza una separación de los elementos y los convierte en una lista\n",
    "y al final se realiza una conversión de las entradas a float.\n",
    "\"\"\"\n",
    "v1 = input(\"Ingresa un vector en R^3 separado por espacios\")\n",
    "v2 = input(\"Ingresa un vector en R^3 separado por espacios\")\n",
    "\n",
    "v1 = v1.split()\n",
    "v2 = v2.split()\n",
    "\n",
    "v1 = [float(i) for i in v1]\n",
    "v2 = [float(i) for i in v2]\n",
    "\n",
    "sum = 0\n",
    "for i in range(3):\n",
    "    sum += v1[i]*v2[i]\n",
    "\n",
    "sum"
   ]
  },
  {
   "cell_type": "markdown",
   "id": "44a73d9b-b5ae-4cfe-9cb5-90fc52f8c591",
   "metadata": {},
   "source": [
    "**Código interesante**\n",
    "```\n",
    "lis = [ ]\n",
    "for i, j in zip(A,B):\n",
    "    lis.append(i * j)\n",
    "\n",
    "print('A·B =', sum(lis))\n",
    "```\n",
    "\n",
    "**En julia**\n",
    "\n",
    "```\n",
    "A = [1, 2, 3]\n",
    "B = [4, 5, 6]\n",
    "\n",
    "for (i , j) in zip(a,b)\n",
    "    push!(lis,(i,j))\n",
    "end\n",
    "```\n"
   ]
  },
  {
   "cell_type": "code",
   "execution_count": 19,
   "id": "9b86ddc4-0933-47dd-a884-c4784998ce23",
   "metadata": {},
   "outputs": [
    {
     "data": {
      "text/plain": [
       "25.0"
      ]
     },
     "execution_count": 19,
     "metadata": {},
     "output_type": "execute_result"
    }
   ],
   "source": [
    "# b) producto interior de dos vectores en R^n\n",
    "n = 5\n",
    "a1 = np.ones(n)\n",
    "a2 = 5*np.ones(n)\n",
    "\n",
    "sum = 0\n",
    "for i in range(n):\n",
    "    sum += a1[i]*a2[i]\n",
    "\n",
    "sum"
   ]
  },
  {
   "cell_type": "code",
   "execution_count": 4,
   "id": "f2b92860-11cf-48ac-bb7f-d776e37b5395",
   "metadata": {},
   "outputs": [
    {
     "data": {
      "text/plain": [
       "[6, 6, 6]"
      ]
     },
     "execution_count": 4,
     "metadata": {},
     "output_type": "execute_result"
    }
   ],
   "source": [
    "# c) Producto de matriz por vector\n",
    "n = 3\n",
    "M = [[1 for i in range(n)] for i in range(n)]\n",
    "v = [i for i in range(1,n+1)]\n",
    "\n",
    "sum = 0\n",
    "r = []\n",
    "for i in range(n):\n",
    "    for j in range(n):\n",
    "        sum += M[i][j]*v[j]\n",
    "    r.append(sum)\n",
    "    sum = 0\n",
    "r     "
   ]
  },
  {
   "cell_type": "code",
   "execution_count": 21,
   "id": "feaecc5d-61f6-4702-b30b-c4f945fd3cce",
   "metadata": {},
   "outputs": [
    {
     "data": {
      "text/plain": [
       "[[3, 3, 3], [3, 3, 3], [3, 3, 3]]"
      ]
     },
     "execution_count": 21,
     "metadata": {},
     "output_type": "execute_result"
    }
   ],
   "source": [
    "# d) Producto de matrices cuadradas\n",
    "n = 3\n",
    "A = [[1 for i in range(n)] for i in range(n)]\n",
    "B = [[1 for i in range(n)] for i in range(n)]\n",
    "\n",
    "sum = 0\n",
    "R = []\n",
    "for i in range(n):\n",
    "    renglon = []\n",
    "    for j in range(n):\n",
    "        for k in range(n):\n",
    "            sum += A[i][k]*B[k][j]\n",
    "        renglon.append(sum)\n",
    "        sum = 0\n",
    "    R.append(renglon)\n",
    "    \n",
    "R\n"
   ]
  },
  {
   "cell_type": "code",
   "execution_count": 49,
   "id": "a914df81-ba49-4daa-ad09-c4bd2548d7a7",
   "metadata": {},
   "outputs": [
    {
     "data": {
      "text/plain": [
       "[[2, 2, 2], [2, 2, 2], [2, 2, 2]]"
      ]
     },
     "execution_count": 49,
     "metadata": {},
     "output_type": "execute_result"
    }
   ],
   "source": [
    "# e)  Producto generalizado de R^nm\n",
    "n,m = 3,2\n",
    "V = [[1 for i in range(m)] for i in range(n)]\n",
    "W = [[1 for i in range(n)] for i in range(m)]\n",
    "\n",
    "sum = 0\n",
    "R = []\n",
    "for i in range(n):\n",
    "    renglones = []\n",
    "    for j in range(n):\n",
    "        for k in range(m):\n",
    "            sum += V[i][k]*W[k][j]\n",
    "        renglones.append(sum)\n",
    "        sum = 0\n",
    "    R.append(renglones)\n",
    "R       "
   ]
  },
  {
   "cell_type": "code",
   "execution_count": null,
   "id": "334a8cfb-d709-4632-a829-b6781479d533",
   "metadata": {},
   "outputs": [],
   "source": [
    "V"
   ]
  },
  {
   "cell_type": "code",
   "execution_count": null,
   "id": "ea748420-0acd-40d1-b074-882855e9c0d8",
   "metadata": {},
   "outputs": [],
   "source": [
    "W"
   ]
  },
  {
   "cell_type": "code",
   "execution_count": 7,
   "id": "fa8ac5e0-3d66-4dc2-bc98-19ac850812d5",
   "metadata": {},
   "outputs": [],
   "source": [
    "def productoMatricial(A,B):\n",
    "    n = len(A)\n",
    "    m = len(B)\n",
    "    sum = 0\n",
    "    R = []\n",
    "    for i in range(n):\n",
    "        renglones = []\n",
    "        for j in range(n):\n",
    "            for k in range(m):\n",
    "                sum += A[i][k]*B[k][j]\n",
    "            renglones.append(sum)\n",
    "            sum = 0\n",
    "        R.append(renglones)\n",
    "    return R \n",
    "        "
   ]
  },
  {
   "cell_type": "code",
   "execution_count": null,
   "id": "3f9a0385-e039-4228-b172-d79c34aebe0f",
   "metadata": {},
   "outputs": [],
   "source": []
  }
 ],
 "metadata": {
  "kernelspec": {
   "display_name": "Python 3 (ipykernel)",
   "language": "python",
   "name": "python3"
  },
  "language_info": {
   "codemirror_mode": {
    "name": "ipython",
    "version": 3
   },
   "file_extension": ".py",
   "mimetype": "text/x-python",
   "name": "python",
   "nbconvert_exporter": "python",
   "pygments_lexer": "ipython3",
   "version": "3.12.3"
  }
 },
 "nbformat": 4,
 "nbformat_minor": 5
}
