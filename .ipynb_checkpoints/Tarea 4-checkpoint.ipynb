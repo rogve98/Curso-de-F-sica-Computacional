{
 "cells": [
  {
   "cell_type": "markdown",
   "id": "a2101738-1b97-43de-ada8-516864a0fd00",
   "metadata": {},
   "source": [
    "# Tarea 4: Error numérico"
   ]
  },
  {
   "cell_type": "code",
   "execution_count": 1,
   "id": "703cd217-2a3d-4894-b2fe-a43d314d97a3",
   "metadata": {},
   "outputs": [],
   "source": [
    "#Ejercicio 1:\n",
    "import struct\n",
    "\n",
    "# def ieee754_to_decimal(binary_string):\n",
    "#     \"\"\"Convierte una representación binaria IEEE 754 de 32 bits a un número decimal.\"\"\"\n",
    "#     # Asegurarse de que la cadena tenga 32 bits\n",
    "#     if len(binary_string) != 32:\n",
    "#         raise ValueError(\"La cadena binaria debe tener exactamente 32 bits.\")\n",
    "\n",
    "#     # Convertir la cadena binaria en un entero de 32 bits\n",
    "#     int_bits = int(binary_string, 2)\n",
    "    \n",
    "#     # Convertir el entero en un flotante IEEE 754\n",
    "#     decimal_value = struct.unpack('!f', struct.pack('!I', int_bits))[0]\n",
    "#     return decimal_value\n",
    "\n",
    "def ieee754_to_real(binary_string):\n",
    "    \"\"\"Convierte una representación binaria IEEE 754 de 32 bits a un número real.\"\"\"\n",
    "    # Convertimos la cadena binaria en un entero sin signo\n",
    "    int_representation = int(binary_string, 2)\n",
    "    # Empaquetamos el entero en formato IEEE 754 de 32 bits\n",
    "    packed = struct.pack('>I', int_representation)  # '>I' indica entero sin signo de 32 bits en big-endian\n",
    "    # Desempaquetamos el valor flotante de 32 bits\n",
    "    real_number = struct.unpack('>f', packed)[0]  # '>f' indica formato de punto flotante de 32 bits\n",
    "    return real_number\n",
    "\n",
    "# def decimal_to_ieee754(decimal_value):\n",
    "#     \"\"\"Convierte un número decimal en una representación binaria IEEE 754 de 32 bits.\"\"\"\n",
    "#     # Empaquetar el número decimal en formato IEEE 754 y convertirlo en un entero de 32 bits\n",
    "#     int_bits = struct.unpack('!I', struct.pack('!f', decimal_value))[0]\n",
    "    \n",
    "#     # Convertir el entero en una cadena binaria de 32 bits\n",
    "#     binary_string = format(int_bits, '032b')\n",
    "#     return binary_string\n",
    "\n",
    "def real_to_ieee754(real_number):\n",
    "    \"\"\"Convierte un número real a su representación binaria IEEE 754 de 32 bits.\"\"\"\n",
    "    # Empaquetamos el número real en un formato IEEE 754 usando struct\n",
    "    packed = struct.pack('>f', real_number)  # '>f' indica formato de punto flotante de 32 bits en big-endian\n",
    "    # Convertimos el empaquetado a una representación entera\n",
    "    int_representation = struct.unpack('>I', packed)[0]  # '>I' indica entero sin signo de 32 bits\n",
    "    # Convertimos el entero a una cadena binaria de 32 bits\n",
    "    binary_string = f\"{int_representation:032b}\"\n",
    "    return binary_string\n",
    "\n",
    "\n",
    "def real_to_ieee754_64(real_number):\n",
    "    \"\"\"Convierte un número real a su representación IEEE 754 de 64 bits (doble precisión).\"\"\"\n",
    "    # Empaquetamos el número real como un flotante de 64 bits (double)\n",
    "    packed = struct.pack('>d', real_number)  # '>d' indica un double de 64 bits en big-endian\n",
    "    # Convertimos el valor empaquetado a una representación binaria de 64 bits\n",
    "    binary_string = ''.join(f'{byte:08b}' for byte in packed)\n",
    "    return binary_string\n",
    "\n",
    "def ieee754_64_to_real(binary_string):\n",
    "    \"\"\"Convierte una representación binaria IEEE 754 de 64 bits a un número real.\"\"\"\n",
    "    # Convertimos la cadena binaria en un entero sin signo\n",
    "    int_representation = int(binary_string, 2)\n",
    "    # Empaquetamos el entero en formato IEEE 754 de 64 bits\n",
    "    packed = struct.pack('>Q', int_representation)  # '>Q' indica entero sin signo de 64 bits en big-endian\n",
    "    # Desempaquetamos el valor flotante de 64 bits\n",
    "    real_number = struct.unpack('>d', packed)[0]  # '>d' indica formato de punto flotante de 64 bits\n",
    "    return real_number"
   ]
  },
  {
   "cell_type": "code",
   "execution_count": 2,
   "id": "fda15845-eb69-45fc-a2ab-c9ecbf22f5f4",
   "metadata": {},
   "outputs": [],
   "source": [
    "a = \"01000000001011011111100001010100\"\n",
    "b = \"11000000010010010000111111011011\"\n",
    "c = \"00111111110011110001101110111101\"\n",
    "d = \"1100000000111011100100010001000100000111000000000000101010011000\"\n",
    "e = \"0100100100111000100101010111000100000111000001010001001010101001\"\n",
    "prueba = \"01000010101000010101100011010011\"\n",
    "\n",
    "G = 6.6743e-11\n",
    "luz = 299792458\n",
    "kb = 1.380649e-23\n",
    "h = 6.62607015e-34\n",
    "NA = 6.022140857e23\n",
    "pruebaDec = 80.673489"
   ]
  },
  {
   "cell_type": "code",
   "execution_count": 3,
   "id": "bf9c38cb-16bc-4378-a65b-cc7b85cc14c6",
   "metadata": {},
   "outputs": [
    {
     "name": "stdout",
     "output_type": "stream",
     "text": [
      "2.7182817459106445\n",
      "-3.1415927410125732\n",
      "1.6180340051651\n",
      "-27.56666606665621\n",
      "5.482360766069652e+44\n",
      "80.6734848022461\n",
      "\n",
      "00101110100100101100010011111000\n",
      "01001101100011101111001111000010\n",
      "00011001100001011000011100110111\n",
      "00001000010111000011000001011111\n",
      "01100110111111110000110000101111\n",
      "01000010101000010101100011010100\n"
     ]
    }
   ],
   "source": [
    "print(ieee754_to_real(a))\n",
    "print(ieee754_to_real(b))\n",
    "print(ieee754_to_real(c))\n",
    "print(ieee754_64_to_real(d))\n",
    "print(ieee754_64_to_real(e))\n",
    "print(ieee754_to_real(prueba))\n",
    "print()\n",
    "print(real_to_ieee754(G))\n",
    "print(real_to_ieee754(luz))\n",
    "print(real_to_ieee754(kb))\n",
    "print(real_to_ieee754(h))\n",
    "print(real_to_ieee754(NA))\n",
    "print(real_to_ieee754(pruebaDec))"
   ]
  },
  {
   "cell_type": "code",
   "execution_count": 4,
   "id": "f5a18d86-7906-4567-8da6-54b84de46592",
   "metadata": {},
   "outputs": [],
   "source": [
    "#Ejercicio 2\n",
    "import numpy as np\n",
    "def convert_toFloat(num):\n",
    "    \"\"\"\n",
    "    num := número decimal en cualquier formato: real o notación científica\n",
    "    queda pendiente extenderlo a 64 bits\n",
    "    \"\"\"\n",
    "    #Se determina el signo, con operador ternario.\n",
    "    signo = \"0\" if num > 0 else '1'\n",
    "\n",
    "    #Se normaliza el número ingresado para determinar el exponente y la mantisa\n",
    "    normalize = np.round(np.log2(num))\n",
    "    num = num/2**(normalize)\n",
    "\n",
    "    #Se determina el exponente\n",
    "    exp = 127 + normalize\n",
    "    exponente = \" \"*8\n",
    "    list_exponente = list(exponente)\n",
    "    #Se genera una lista de 8 espacios para guardar en sentido inverso cada 1 o 0\n",
    "    for i in range(7,-1,-1):\n",
    "        exp /= 2\n",
    "        if exp.is_integer():\n",
    "            list_exponente[i] = '0'\n",
    "        else:\n",
    "            list_exponente[i] = '1'\n",
    "            exp = int(exp) #importante convertir a entero para la siguiente iteración\n",
    "    #Método join() para unir la lista de strings en uno solo\n",
    "    exponente = \"\".join(list_exponente)       \n",
    "\n",
    "    #Se determina la mantisa. Nos quedamos con la parte fraccionaria del número ya normalizado.\n",
    "    c = num-1\n",
    "    mantisa = \" \"*23\n",
    "    list_mantisa = list(mantisa)\n",
    "    #Se genera una lista de 23 espacios para guardar en cada uno un valor de la mantisa\n",
    "    for i in range(23):\n",
    "        c *= 2\n",
    "        if c > 1:\n",
    "            list_mantisa[i] = '1'\n",
    "            c -= 1  #importante quitar la parte entera en este caso.\n",
    "        else:\n",
    "            list_mantisa[i] = '0'    \n",
    "    #Método join() para unir las strings de la lista en una sola.\n",
    "    mantisa = \"\".join(list_mantisa)\n",
    "    \n",
    "    return signo+exponente+mantisa"
   ]
  },
  {
   "cell_type": "code",
   "execution_count": 5,
   "id": "0590f681-c295-418b-8295-7b2d84f5312b",
   "metadata": {},
   "outputs": [],
   "source": [
    "def convert_toDecimal(string):\n",
    "    \"\"\"\n",
    "    string := es una cadena de números de longitud 32\n",
    "    Queda pendiente la extensión a 64 bits\n",
    "    \"\"\"\n",
    "    #Si no se ingresa una cadena con dichas características no se ejecuta el algoritmo.\n",
    "    if len(string) != 32:\n",
    "        raise ValueError(\"El número debe de ser de 32 bits\")\n",
    "\n",
    "    #Se descompone la string en partes\n",
    "    signo = int(string[0])\n",
    "    exponente = string[1:9]\n",
    "    mantisa = string[9:32]\n",
    "\n",
    "    #Al segmento del exponente lo volvemos una lista para poder operar\n",
    "    exponente_list = list(exponente)\n",
    "    exp = 0\n",
    "    for i in range(8):\n",
    "        if exponente_list[7-i] == '1': #Vamos leyendo cada entrada de la lista en sentido inverso\n",
    "            exp += 2**i\n",
    "        else:\n",
    "            continue\n",
    "    #Se determina el exponente decimal\n",
    "    exp = exp - 127    \n",
    "\n",
    "    #Al segmento de la mantisa la volvemos una lista para poder operar\n",
    "    mantisa_list = list(mantisa)\n",
    "    man = 0\n",
    "    for i in range(23):\n",
    "        if mantisa_list[i] == '1':\n",
    "            man += 1*2**(-i-1) #le restamos -1 al iterador para que quede acoplado\n",
    "        else:\n",
    "            continue\n",
    "    #Se obtiene el número decimal con los resultados de cada ciclo for.\n",
    "    return (-1)**signo*(2**exp)*(1+man)\n",
    "\n",
    "    \n",
    "    "
   ]
  },
  {
   "cell_type": "code",
   "execution_count": 6,
   "id": "6451cc1e-32a2-4664-913c-014a45ef602d",
   "metadata": {},
   "outputs": [
    {
     "name": "stdout",
     "output_type": "stream",
     "text": [
      "00011001100001011000011100110110\n",
      "2.7182817459106445\n"
     ]
    }
   ],
   "source": [
    "s = \"01000000001011011111100001010100\"\n",
    "print(convert_toFloat(kb))\n",
    "print(convert_toDecimal(s))"
   ]
  },
  {
   "cell_type": "code",
   "execution_count": 7,
   "id": "9d360bb4-392c-4c08-bb53-af7cfc645b2f",
   "metadata": {},
   "outputs": [
    {
     "name": "stdout",
     "output_type": "stream",
     "text": [
      "Factorial entero de  200 es = 788657867364790503552363213932185062295135977687173263294742533244359449963403342920304284011984623904177212138919638830257642790242637105061926624952829931113462857270763317237396988943922445621451664240254033291864131227428294853277524242407573903240321257405579568660226031904170324062351700858796178922222789623703897374720000000000000000000000000000000000000000000000000\n",
      "Factorial flotante de  200.0 es = inf\n",
      "Factorial de  200.0 es =  3943289336823952517761816069660925311475679888435866316473712666221797249817016714601521420059923119520886060694598194151288213951213185525309633124764149655567314286353816586186984944719612228107258321201270166459320656137141474266387621212037869516201606287027897843301130159520851620311758504293980894611113948118519486873600000000000000000000000000000000000000000000000\n"
     ]
    }
   ],
   "source": [
    "#Ejercicio 3\n",
    "def factorial(n):\n",
    "    if n < 0:\n",
    "        return None  # Manejo de entradas inválidas (números negativos)\n",
    "    result = 1\n",
    "    for i in range(1, n + 1):\n",
    "        result *= i\n",
    "    return result\n",
    "\n",
    "def factorialF(n):\n",
    "    if n < 0:\n",
    "        return None  # Manejo de entradas inválidas (números negativos)\n",
    "    result = 1.\n",
    "    for i in range(1, n + 1):\n",
    "        result *= i\n",
    "    return result\n",
    "#Alternativa de alumno\n",
    "def factorial_flotante(x): #Definimos la primera función para calcular el factorial de un valor flotante positivo.\n",
    "    if x==0:\n",
    "        return float(1)\n",
    "    elif x<0:\n",
    "        return \"No es posible calcular su factorial\"\n",
    "    else:\n",
    "        return float((x))*float(factorial_flotante(x-1))\n",
    "\n",
    "#Alternativa con la función gamma 👀 \n",
    "# Función gamma general\n",
    "def gamma(alpha):\n",
    "    if alpha == 1:\n",
    "        return 1\n",
    "    elif int(alpha) == float(alpha):\n",
    "        return factorial(int(alpha) - 1) \n",
    "    else:\n",
    "        \n",
    "        result = integrate.quad(f_integrate, a, b, args=(alpha,))\n",
    "        return result\n",
    "\n",
    "x = 200\n",
    "print(\"Factorial entero de \",x, \"es =\", factorial(x))\n",
    "print(\"Factorial flotante de \", float(x), \"es =\", factorialF(x))\n",
    "print(\"Factorial de \",float(x),\"es = \",gamma(float(x)))"
   ]
  },
  {
   "cell_type": "code",
   "execution_count": 8,
   "id": "386f7487-5f5e-4602-9177-ce3c91a59448",
   "metadata": {},
   "outputs": [
    {
     "name": "stdout",
     "output_type": "stream",
     "text": [
      "2.2250738585072014e-308 , 1.7976931348623157e+308\n"
     ]
    }
   ],
   "source": [
    "import sys\n",
    "Mínimo = sys.float_info.min\n",
    "Máximo = sys.float_info.max\n",
    "print(Mínimo, \",\", Máximo)"
   ]
  },
  {
   "cell_type": "code",
   "execution_count": 9,
   "id": "2e97a406-1e08-44a8-8d78-5d3f806e71c5",
   "metadata": {},
   "outputs": [
    {
     "name": "stdout",
     "output_type": "stream",
     "text": [
      "Las soluciones son x1 = -9.999894245993346e-07 y x2 = -999999.999999\n",
      "Las soluciones son x1 = -1000010.5755125057 y x2 = -1.000000000001e-06\n"
     ]
    }
   ],
   "source": [
    "#Ejercicio 4\n",
    "import math\n",
    "\n",
    "# Solicitar al usuario que ingrese los coeficientes a, b y c\n",
    "try:\n",
    "    # a = float(input(\"Ingresa el coeficiente a: \"))\n",
    "    # b = float(input(\"Ingresa el coeficiente b: \"))\n",
    "    # c = float(input(\"Ingresa el coeficiente c: \"))\n",
    "    a = 0.001\n",
    "    b = 1000\n",
    "    c = 0.001\n",
    "    \n",
    "    # Calcular el discriminante\n",
    "    discriminante = b**2 - 4*a*c\n",
    "    \n",
    "    # Verificar si el discriminante es positivo, negativo o cero\n",
    "    if discriminante > 0:\n",
    "        # Dos soluciones reales distintas\n",
    "        x1 = (-b + math.sqrt(discriminante)) / (2*a)\n",
    "        x2 = (-b - math.sqrt(discriminante)) / (2*a)\n",
    "        \n",
    "        x11 = (2*c)/(-b+math.sqrt(discriminante))\n",
    "        x22 = (2*c)/(-b-math.sqrt(discriminante))\n",
    "        \n",
    "        print(f\"Las soluciones son x1 = {x1} y x2 = {x2}\")\n",
    "        print(f\"Las soluciones son x1 = {x11} y x2 = {x22}\")\n",
    "    elif discriminante == 0:\n",
    "        # Una solución real (raíz doble)\n",
    "        x = -b / (2*a)\n",
    "        print(f\"La solución doble es x = {x}\")\n",
    "    else:\n",
    "        # No hay soluciones reales (raíces imaginarias)\n",
    "        print(\"No hay soluciones reales, las raíces son imaginarias.\")\n",
    "except ValueError:\n",
    "    print(\"Entrada inválida. Debes ingresar coeficientes numéricos.\")\n"
   ]
  },
  {
   "cell_type": "code",
   "execution_count": 10,
   "id": "5c33ad48-eb65-49ef-9e78-b1d57aefc289",
   "metadata": {},
   "outputs": [
    {
     "name": "stdout",
     "output_type": "stream",
     "text": [
      "1.0575401665491313e-08\n",
      "7.247924804689582e-08\n",
      " \n",
      "10575.62534720993\n",
      "0.0\n"
     ]
    }
   ],
   "source": [
    "print(0.001*x1**2 + 1000*x1 + 0.001)\n",
    "print(0.001*x2**2 + 1000*x2 + 0.001)\n",
    "print(\" \")\n",
    "print(0.001*x11**2 + 1000*x11 + 0.001)\n",
    "print(0.001*x22**2 + 1000*x22 + 0.001)"
   ]
  },
  {
   "cell_type": "code",
   "execution_count": 11,
   "id": "27397605-65e3-4891-820a-8831f10a1eb5",
   "metadata": {},
   "outputs": [],
   "source": [
    "#Ejercicio 5\n",
    "def f(x): return x*(x-1)\n",
    "    \n",
    "def derivada(f,h,x0):\n",
    "    D = (f(x0+h)-f(x0))/h\n",
    "    return D\n",
    "\n",
    "def der2(h,x0):\n",
    "    return ((x0+h)*(x0+h-1)-x0*(x0-1))/h\n"
   ]
  },
  {
   "cell_type": "code",
   "execution_count": 12,
   "id": "5b621fbd-8b6a-4c7a-9140-73fb09485479",
   "metadata": {},
   "outputs": [
    {
     "name": "stdout",
     "output_type": "stream",
     "text": [
      "9.999999999999999e-17\n",
      "0.0\n"
     ]
    }
   ],
   "source": [
    "h = 1E-16\n",
    "x0 = 1\n",
    "\n",
    "print(derivada(f,x0,h))\n",
    "print(der2(h,x0))"
   ]
  },
  {
   "cell_type": "code",
   "execution_count": null,
   "id": "acc05352-963e-45e6-b797-917b2261397f",
   "metadata": {},
   "outputs": [],
   "source": []
  }
 ],
 "metadata": {
  "kernelspec": {
   "display_name": "Python 3 (ipykernel)",
   "language": "python",
   "name": "python3"
  },
  "language_info": {
   "codemirror_mode": {
    "name": "ipython",
    "version": 3
   },
   "file_extension": ".py",
   "mimetype": "text/x-python",
   "name": "python",
   "nbconvert_exporter": "python",
   "pygments_lexer": "ipython3",
   "version": "3.12.3"
  }
 },
 "nbformat": 4,
 "nbformat_minor": 5
}
