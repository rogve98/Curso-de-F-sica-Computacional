{
 "cells": [
  {
   "cell_type": "markdown",
   "id": "5954ee5b-0d5f-451e-a227-9a711337f2bd",
   "metadata": {},
   "source": [
    "# Tarea 2"
   ]
  },
  {
   "cell_type": "markdown",
   "id": "635e8403-572f-4a7f-b147-10f903e18a30",
   "metadata": {},
   "source": [
    "# Ejercicio 1: Leyes de Kepler\n",
    "\n",
    "**a) Es la demostración de las órbitas planetarias y sus velocidades**"
   ]
  },
  {
   "cell_type": "code",
   "execution_count": 1,
   "id": "8d49511b-4f0a-493b-8c9b-31be08f6f110",
   "metadata": {},
   "outputs": [],
   "source": [
    "#b) Escritura del programa para determinar las cantidades\n",
    "\n",
    "from sympy import *\n",
    "import math as mt\n",
    "\n",
    "def cantidades(ℓ1,v1):\n",
    "    #Constantes\n",
    "    G = 6.6738E-11\n",
    "    M = 1.9891E30\n",
    "    #Velocidad afhelio; usamos solveset()\n",
    "    v2 = symbols(\"v2\")\n",
    "    p = v2**2-(2*G*M*v2)/(v1*ℓ1)-(v1**2-(2*G*M)/ℓ1)\n",
    "    V2 = solveset(p,v2)\n",
    "    V2 = min(V2)\n",
    "    #Distancia afhelio\n",
    "    ℓ2 = ℓ1*v1/V2\n",
    "    #Semieje mayor\n",
    "    a = 0.5*(ℓ1+ℓ2)\n",
    "    #Semi eje menor\n",
    "    b = sqrt(ℓ1*ℓ2)\n",
    "    #Periodo\n",
    "    T = (2*mt.pi*a*b)/(ℓ1*v1)\n",
    "    #Excentricidad\n",
    "    e = (ℓ2-ℓ1)/(ℓ2+ℓ1)\n",
    "    return (ℓ2,V2,T,e)"
   ]
  },
  {
   "cell_type": "code",
   "execution_count": 2,
   "id": "6990ea70-86c0-40fb-b075-988fdd41f022",
   "metadata": {},
   "outputs": [
    {
     "data": {
      "text/plain": [
       "30287.0"
      ]
     },
     "execution_count": 2,
     "metadata": {},
     "output_type": "execute_result"
    }
   ],
   "source": [
    "ℓ1 = 1.4710E11\n",
    "v1 = 3.0287E4\n",
    "cantidades(ℓ1,v1)\n",
    "v1"
   ]
  },
  {
   "cell_type": "code",
   "execution_count": 3,
   "id": "7dcdc9a6-c382-4bbf-8c21-5f54e8074b6d",
   "metadata": {},
   "outputs": [
    {
     "name": "stdout",
     "output_type": "stream",
     "text": [
      "Velocidad en el perihelio de la Tierra 30287.0\n",
      "Distancia en el perihelio de la Tierra 147100000000.0\n",
      "Velocidad en el afelio de la Tierra 29305.3991772614\n",
      "Distancia en el afelio de la Tierra 152027197208.659\n",
      "Periodo orbital de la Tierra (en años) 1.00022387772345\n",
      "Excentricidad orbital de la Tierra 0.0164719131347394\n",
      "\n",
      "Velocidad en el perihelio de la Tierra 54529.0\n",
      "Distancia en el perihelio de la Tierra 87830000000.0\n",
      "Velocidad en el afelio de la Tierra 906.680696919150\n",
      "Distancia en el afelio de la Tierra 5282214660876.44\n",
      "Periodo orbital de la Tierra (en años) 76.0817006546545\n",
      "Excentricidad orbital de la Tierra 0.967288912645406\n"
     ]
    }
   ],
   "source": [
    "#c) Para la Tierra\n",
    "ℓ1T = 1.4710E11\n",
    "v1T = 3.0287E4\n",
    "\n",
    "ℓ1H = 8.7830E10\n",
    "v1H = 5.4529E4\n",
    "print(\"Velocidad en el perihelio de la Tierra\",v1T)\n",
    "print(\"Distancia en el perihelio de la Tierra\",ℓ1T)\n",
    "\n",
    "ℓ2T,v2T,TT,eT = cantidades(ℓ1T,v1T)\n",
    "print(\"Velocidad en el afelio de la Tierra\",v2T)\n",
    "print(\"Distancia en el afelio de la Tierra\",ℓ2T)\n",
    "print(\"Periodo orbital de la Tierra (en años)\",TT/(86400*365))\n",
    "print(\"Excentricidad orbital de la Tierra\",eT)\n",
    "print(\"\")\n",
    "#c) Para el cometa Halley\n",
    "print(\"Velocidad en el perihelio de la Tierra\",v1H)\n",
    "print(\"Distancia en el perihelio de la Tierra\",ℓ1H)\n",
    "\n",
    "ℓ2H,v2H,TH,eH = cantidades(ℓ1H,v1H)\n",
    "print(\"Velocidad en el afelio de la Tierra\",v2H)\n",
    "print(\"Distancia en el afelio de la Tierra\",ℓ2H)\n",
    "print(\"Periodo orbital de la Tierra (en años)\",TH/(86400*365))\n",
    "print(\"Excentricidad orbital de la Tierra\",eH)"
   ]
  },
  {
   "cell_type": "markdown",
   "id": "d9e4185d-a69f-4a5b-95d5-e63340cb545c",
   "metadata": {},
   "source": [
    "# Ejercicio 2: Constante de Madelung"
   ]
  },
  {
   "cell_type": "code",
   "execution_count": 4,
   "id": "8157005f-3171-49db-87a7-03d228fa0bd1",
   "metadata": {},
   "outputs": [],
   "source": [
    "#Ejercicio 2: Constante de Madelung\n",
    "def Madelung(L :int):\n",
    "    ϵ0 = 8.8541878176E-12\n",
    "    e = 1.602176634E-19\n",
    "    K = 4*mt.pi*ϵ0\n",
    "    def v(i,j,k):\n",
    "        r = sqrt(i^2 + j^2 + k^2)\n",
    "        return 1/r\n",
    "        \n",
    "    sum = 0\n",
    "    for i in range(-L,L+1):\n",
    "        for j in range(-L,L+1):\n",
    "            for k in range(-L,L+1):\n",
    "                if i == j == k == 0:\n",
    "                    continue\n",
    "                else:\n",
    "                    sum += (-1)**((i+j+k)%2)/mt.sqrt(i*i+j*j+k*k)\n",
    "    return sum\n"
   ]
  },
  {
   "cell_type": "code",
   "execution_count": 5,
   "id": "93a8a942-5c6c-427a-8d31-46b998b1206b",
   "metadata": {},
   "outputs": [
    {
     "data": {
      "text/plain": [
       "-1.7446850421707383"
      ]
     },
     "execution_count": 5,
     "metadata": {},
     "output_type": "execute_result"
    }
   ],
   "source": [
    "#Tarda un buen xd por eso usamos Julia\n",
    "Madelung(200)"
   ]
  },
  {
   "cell_type": "markdown",
   "id": "1c7199ed-6516-47c0-8940-b496409083cc",
   "metadata": {},
   "source": [
    "# Ejercicio 3: Coeficientes Binomiales"
   ]
  },
  {
   "cell_type": "code",
   "execution_count": 6,
   "id": "8a7c5858-2895-452a-82ed-13c050605129",
   "metadata": {},
   "outputs": [],
   "source": [
    "#a) Coeficiente binomial\n",
    "def binomial(n :int,k :int):\n",
    "    N = 1\n",
    "    K = 1\n",
    "    if k == 0:\n",
    "        return 1\n",
    "    elif n > k:\n",
    "        for i in range(1,k+1):\n",
    "            N *= (n-i+1)\n",
    "            K *= i\n",
    "    return N/K"
   ]
  },
  {
   "cell_type": "code",
   "execution_count": 7,
   "id": "b5f18d82-55a2-40dd-879f-b89b54090122",
   "metadata": {},
   "outputs": [
    {
     "data": {
      "text/plain": [
       "296010.0"
      ]
     },
     "execution_count": 7,
     "metadata": {},
     "output_type": "execute_result"
    }
   ],
   "source": [
    "binomial(27,6)"
   ]
  },
  {
   "cell_type": "code",
   "execution_count": 8,
   "id": "2c74001a-0a24-421b-99f8-d77c6df05c66",
   "metadata": {},
   "outputs": [],
   "source": [
    "#b) Triángulo de pascal\n",
    "def pascal(n :int):\n",
    "    for n in range(n+1):\n",
    "        linea = [binomial(n, k) for k in range(n + 1)]\n",
    "        print(\" \".join(map(str, linea)))\n",
    "        #print(binomial(i,j),\" \", end=\"\")    # end=\"\" permite imprimir todos los valores de una fila en la misma línea.\n"
   ]
  },
  {
   "cell_type": "code",
   "execution_count": 9,
   "id": "34d684ac-7613-430e-b16f-dd8246616666",
   "metadata": {},
   "outputs": [
    {
     "name": "stdout",
     "output_type": "stream",
     "text": [
      "1\n",
      "1 1.0\n",
      "1 2.0 1.0\n",
      "1 3.0 3.0 1.0\n",
      "1 4.0 6.0 4.0 1.0\n",
      "1 5.0 10.0 10.0 5.0 1.0\n",
      "1 6.0 15.0 20.0 15.0 6.0 1.0\n",
      "1 7.0 21.0 35.0 35.0 21.0 7.0 1.0\n",
      "1 8.0 28.0 56.0 70.0 56.0 28.0 8.0 1.0\n",
      "1 9.0 36.0 84.0 126.0 126.0 84.0 36.0 9.0 1.0\n",
      "1 10.0 45.0 120.0 210.0 252.0 210.0 120.0 45.0 10.0 1.0\n",
      "1 11.0 55.0 165.0 330.0 462.0 462.0 330.0 165.0 55.0 11.0 1.0\n",
      "1 12.0 66.0 220.0 495.0 792.0 924.0 792.0 495.0 220.0 66.0 12.0 1.0\n",
      "1 13.0 78.0 286.0 715.0 1287.0 1716.0 1716.0 1287.0 715.0 286.0 78.0 13.0 1.0\n",
      "1 14.0 91.0 364.0 1001.0 2002.0 3003.0 3432.0 3003.0 2002.0 1001.0 364.0 91.0 14.0 1.0\n",
      "1 15.0 105.0 455.0 1365.0 3003.0 5005.0 6435.0 6435.0 5005.0 3003.0 1365.0 455.0 105.0 15.0 1.0\n",
      "1 16.0 120.0 560.0 1820.0 4368.0 8008.0 11440.0 12870.0 11440.0 8008.0 4368.0 1820.0 560.0 120.0 16.0 1.0\n",
      "1 17.0 136.0 680.0 2380.0 6188.0 12376.0 19448.0 24310.0 24310.0 19448.0 12376.0 6188.0 2380.0 680.0 136.0 17.0 1.0\n",
      "1 18.0 153.0 816.0 3060.0 8568.0 18564.0 31824.0 43758.0 48620.0 43758.0 31824.0 18564.0 8568.0 3060.0 816.0 153.0 18.0 1.0\n",
      "1 19.0 171.0 969.0 3876.0 11628.0 27132.0 50388.0 75582.0 92378.0 92378.0 75582.0 50388.0 27132.0 11628.0 3876.0 969.0 171.0 19.0 1.0\n",
      "1 20.0 190.0 1140.0 4845.0 15504.0 38760.0 77520.0 125970.0 167960.0 184756.0 167960.0 125970.0 77520.0 38760.0 15504.0 4845.0 1140.0 190.0 20.0 1.0\n"
     ]
    }
   ],
   "source": [
    "pascal(20)"
   ]
  },
  {
   "cell_type": "code",
   "execution_count": 10,
   "id": "c2e33f46-2529-47b2-8a6a-fd4cfaac93a0",
   "metadata": {},
   "outputs": [],
   "source": [
    "#c) Azar\n",
    "def binomialA(n :int,k :int): \n",
    "    return mt.factorial(n)/(mt.factorial(k)*mt.factorial(n-k))\n",
    "def azar(n :int,k :int): \n",
    "    return binomialA(n,k)/2**n "
   ]
  },
  {
   "cell_type": "code",
   "execution_count": 11,
   "id": "d9d2fe84-8ec2-4477-9c6f-002faa1d8521",
   "metadata": {},
   "outputs": [
    {
     "data": {
      "text/plain": [
       "0.010843866711637987"
      ]
     },
     "execution_count": 11,
     "metadata": {},
     "output_type": "execute_result"
    }
   ],
   "source": [
    "#i) Probabilidad de que caiga águila 60 veces de 100\n",
    "azar(100,60)"
   ]
  },
  {
   "cell_type": "code",
   "execution_count": 12,
   "id": "a9ca21d0-8d21-4c3a-902d-a1ec639d43a4",
   "metadata": {},
   "outputs": [
    {
     "data": {
      "text/plain": [
       "0.028443966820490395"
      ]
     },
     "execution_count": 12,
     "metadata": {},
     "output_type": "execute_result"
    }
   ],
   "source": [
    "#ii) Probabilidad de que salga águilajjjnjnmhjjj 60 veces o más\n",
    "sum(azar(100,k) for k in range(60,101))"
   ]
  },
  {
   "cell_type": "markdown",
   "id": "94ee3381-b902-49d5-8004-4afc69a51d8c",
   "metadata": {},
   "source": [
    "# Ejercicio 4: Números primos"
   ]
  },
  {
   "cell_type": "code",
   "execution_count": 13,
   "id": "e92e005e-9c3d-4786-9a67-92a8bf58e3f2",
   "metadata": {},
   "outputs": [
    {
     "data": {
      "text/plain": [
       "[2, 3, 5, 7, 11, 13, 17, 19]"
      ]
     },
     "execution_count": 13,
     "metadata": {},
     "output_type": "execute_result"
    }
   ],
   "source": [
    "#Opción 1\n",
    "n = 20\n",
    "primos = []\n",
    "for i in range(2,n+1):\n",
    "    for j in range(2,i):\n",
    "        if i % j == 0:\n",
    "            break\n",
    "    else:\n",
    "        primos.append(i)\n",
    "primos\n",
    "\n",
    "#Opción 2\n",
    "n=20\n",
    "primos = [2]\n",
    "for i in range(3,n):\n",
    "    es_primo = True\n",
    "    limite = mt.sqrt(i)\n",
    "    for primo in primos:\n",
    "        if primo > limite:\n",
    "            break\n",
    "        if i % primo == 0:\n",
    "            es_primo = False\n",
    "            break\n",
    "    if es_primo:\n",
    "        primos.append(i)\n",
    "primos"
   ]
  },
  {
   "cell_type": "markdown",
   "id": "2e54f83f-d274-40d7-a48c-79fd5fa884c9",
   "metadata": {},
   "source": [
    "# Ejercicio 5: Recursividad\n"
   ]
  },
  {
   "cell_type": "code",
   "execution_count": 14,
   "id": "8463c57a-5647-41c3-8796-ecfc61f07035",
   "metadata": {},
   "outputs": [],
   "source": [
    "## Ejercicio 5: Recursividad\n",
    "def Factorial(n :int):\n",
    "    if n == 1:\n",
    "        return 1\n",
    "    else:\n",
    "        return n*Factorial(n-1)\n",
    "\n",
    "#Ejercicio 5: Recursividad Catalan\n",
    "def catalan(n):\n",
    "    if n == 0:\n",
    "        return 1\n",
    "    else:\n",
    "        return (4*n-2)/(n+1)*catalan(n-1)\n",
    "\n",
    "#Ejercicio 5: Recursividad mcd\n",
    "def mcd(m,n):\n",
    "    if n == 0:\n",
    "        return m\n",
    "    else:\n",
    "        return mcd(n,m%n)"
   ]
  },
  {
   "cell_type": "code",
   "execution_count": 15,
   "id": "12633a1d-d480-42f1-8f94-c4bbd5fae1e5",
   "metadata": {},
   "outputs": [
    {
     "data": {
      "text/plain": [
       "120"
      ]
     },
     "execution_count": 15,
     "metadata": {},
     "output_type": "execute_result"
    }
   ],
   "source": [
    "Factorial(5)"
   ]
  },
  {
   "cell_type": "code",
   "execution_count": 16,
   "id": "8177e18b-4057-4e0f-8aca-5d0c581569eb",
   "metadata": {},
   "outputs": [
    {
     "data": {
      "text/plain": [
       "132.0"
      ]
     },
     "execution_count": 16,
     "metadata": {},
     "output_type": "execute_result"
    }
   ],
   "source": [
    "catalan(6)"
   ]
  },
  {
   "cell_type": "code",
   "execution_count": 17,
   "id": "620cba21-be1f-4266-9aee-90cb2a6373fc",
   "metadata": {},
   "outputs": [
    {
     "data": {
      "text/plain": [
       "12"
      ]
     },
     "execution_count": 17,
     "metadata": {},
     "output_type": "execute_result"
    }
   ],
   "source": [
    "mcd(108,192)"
   ]
  },
  {
   "cell_type": "code",
   "execution_count": null,
   "id": "f078dc89-f776-45d1-bfcb-86c2738de197",
   "metadata": {},
   "outputs": [],
   "source": []
  }
 ],
 "metadata": {
  "kernelspec": {
   "display_name": "Python 3 (ipykernel)",
   "language": "python",
   "name": "python3"
  },
  "language_info": {
   "codemirror_mode": {
    "name": "ipython",
    "version": 3
   },
   "file_extension": ".py",
   "mimetype": "text/x-python",
   "name": "python",
   "nbconvert_exporter": "python",
   "pygments_lexer": "ipython3",
   "version": "3.12.3"
  }
 },
 "nbformat": 4,
 "nbformat_minor": 5
}
