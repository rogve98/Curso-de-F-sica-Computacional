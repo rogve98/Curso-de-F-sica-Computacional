{
 "cells": [
  {
   "cell_type": "markdown",
   "id": "909664fb",
   "metadata": {},
   "source": [
    "# Tarea 1\n",
    "\n",
    "Respuestas y material para retroalimentación."
   ]
  },
  {
   "cell_type": "markdown",
   "id": "396bf6a2",
   "metadata": {},
   "source": [
    "1. Caida de una pelota desde una torre: Se deja caer una pelota desde una torre de altura ℎ. Tiene velocidad inicial cero y acelera hacia abajo con la gravedad.\n",
    "\n",
    "Escribe un programa que le pida al usuario que ingrese la altura en metros de la torre y luego calcule e imprima el tiempo en segundos hasta que la pelota toque el suelo (ignora la resistencia del aire).\n",
    "\n",
    "Después, usa tu programa para calcular el tiempo de una pelota lanzada desde una torre de 100𝑚 de altura.\n",
    "\n",
    "**Respuesta**\n",
    "\n",
    "De acuerdo con la ecuación de movimiento de la caída libre tenemos\n",
    "\n",
    "$$y(t)=y_0+v_0t-\\frac{1}{2}gt^2$$\n",
    "\n",
    "Considerando que $v_0=0$ podemos reordenar de la siguiente manera\n",
    "\n",
    "$$y(t)=y_0-\\frac{1}{2}gt^2$$\n",
    "\n",
    "Como buscamos saber el tiempo que cae desde cierta altura, sabemos que $y(t_f)=0$, entonces lo anterior nos queda como\n",
    "\n",
    "$$y_0=\\frac{1}{2}gt^2$$\n",
    "\n",
    "despejando el tiempo finalmente tenemos\n",
    "\n",
    "$$t=\\sqrt{\\frac{2y_0}{g}}$$\n"
   ]
  },
  {
   "cell_type": "code",
   "execution_count": null,
   "id": "3bb2e1e4",
   "metadata": {},
   "outputs": [],
   "source": [
    "#Pasamos a programar\n",
    "function caidaLibre(h::Int)\n",
    "    g = 9.8\n",
    "    t = sqrt(2h/g)\n",
    "    return t\n",
    "end"
   ]
  },
  {
   "cell_type": "code",
   "execution_count": null,
   "id": "43b6b673",
   "metadata": {},
   "outputs": [],
   "source": [
    "caidaLibre(100)"
   ]
  },
  {
   "cell_type": "markdown",
   "id": "a8e3b4ff",
   "metadata": {},
   "source": [
    "**2. Altitud de un satélite**: se va a lanzar un satélite en una órbita circular alrededor de la Tierra de modo que orbite el planeta una vez cada $T$ segundos.\n",
    "\n",
    "(a) Demuestre que la altitud $h$ sobre la superficie de la Tierra que debe tener el satélite es:\n",
    "\n",
    "<h3 align=\"center\">$h = \\biggl( {GMT^2\\over4\\pi^2} \\biggr)^{1/3} - R$,</h3>\n",
    "\n",
    "donde $G=6.67\\times10^{-11}\\,\\textrm{m}^3\\,\\textrm{kg}^{-1}\\,\\textrm{s}^{-2}$ es la constante gravitatoria de Newton, $M=5.97\\times10^{24}\\,$kg es la masa de la Tierra y $R=6371\\,$km  es su radio.\n"
   ]
  },
  {
   "cell_type": "markdown",
   "id": "ccb54463",
   "metadata": {},
   "source": [
    "Para demostrar usamos velocidad orbital\n",
    "\n",
    "$$\n",
    "v=\\sqrt{\\frac{GM_T}{d}}\n",
    "$$\n",
    "\n",
    "y el periodo de oscilación del cuerpo a través de una órbita\n",
    "\n",
    "$$\n",
    "T=\\frac{2\\pi\\cdot d}{v}\n",
    "$$\n",
    "\n",
    "despejamos $d$ y luego consideramos la relación $d=R+h$, y lo que buscamos es $h$"
   ]
  },
  {
   "cell_type": "markdown",
   "id": "b66be61e",
   "metadata": {},
   "source": [
    "(b) Escribe un programa que le pida al usuario que ingrese el valor deseado de 𝑇 y luego calcula e imprima la altitud correcta en metros.\n"
   ]
  },
  {
   "cell_type": "code",
   "execution_count": null,
   "id": "b3b10e0d",
   "metadata": {},
   "outputs": [],
   "source": [
    "#solo es escribir el programa\n",
    "function hSatelite(T::Int)\n",
    "    G = 6.67E-11\n",
    "    M = 5.97E24\n",
    "    R = 6371*1000\n",
    "    h = (G*M*T^2/(4π^2))^(1/3)\n",
    "    hf = h-R\n",
    "    return hf,h\n",
    "end"
   ]
  },
  {
   "cell_type": "markdown",
   "id": "6cd47b18",
   "metadata": {},
   "source": [
    "(c) Utiliza tu programa para calcular las altitudes de los satélites que orbitan la Tierra una vez al día (la llamada órbita geoestacionaria), una vez cada 90 minutos y una vez cada 45 minutos. ¿Qué concluyes de este último cálculo?\n",
    "\n",
    "1 vez al día corresponden a: $60\\times 60\\times 24=86400\\, s$\n",
    "\n",
    "90 minutos corresponden a: $60\\times 90=5400\\, s$\n",
    "\n",
    "45 minutos corresponden a: $60\\times 45=2700\\, s$"
   ]
  },
  {
   "cell_type": "code",
   "execution_count": null,
   "id": "e86dd4c0",
   "metadata": {},
   "outputs": [],
   "source": [
    "h1,_ = hSatelite(86400)\n",
    "h2,_ = hSatelite(60*90)\n",
    "h3,h31 = hSatelite(60*45)\n",
    "\n",
    "println(\"El satélite que orbita la tierra en un día esta a una altura de: \",h1)\n",
    "println(\"El satélite que orbita la tierra en 90 minutos esta a una altura de: \",h2)\n",
    "println(\"El satélite que orbita la tierra en 45 minutos esta a una altura de: \",h3)"
   ]
  },
  {
   "cell_type": "markdown",
   "id": "53140a6e",
   "metadata": {},
   "source": [
    "El tercer caso es imposible porque no cuenta con una altura necesaria para poder orbitar."
   ]
  },
  {
   "cell_type": "markdown",
   "id": "eb216345",
   "metadata": {},
   "source": [
    "**3. Relatividad especial:** Una nave espacial viaja desde la Tierra en línea recta a una velocidad relativista $v$ a otro planeta a $x$ años luz de distancia.\n",
    "\n",
    " Escribe un programa que le pida al usuario el valor de $x$ y la velocidad $v$ como una fracción de la velocidad de la luz $c$, y que imprima el tiempo en años que tarda la nave espacial en llegar a su destino"
   ]
  },
  {
   "cell_type": "markdown",
   "id": "17a1f769",
   "metadata": {},
   "source": [
    "Para resolver este problema debemos basarnos enteramente en la dilatación del tiempo; este es un fenómeno que ocurre cuando dos observadores en dos marcos de referencia en reposo y en movimiento $O$ y $\\overline{O}$ respectivamente estan intentando medir el tiempo de uno de los marcos de referencia. En general se espera medir el tiempo del marco de referencia en movimiento $\\overline{O}$ (aunque también puede ocurrir lo contraio pero no hablaré de ello sino hasta el final). La relatividad especial nos dice que el tiempo que mide el observador en reposo se atraza con respecto del tiempo que ocurre en la nave, es decir, el observador en reposo percibirá que el marco de referencia se mueve más lento de lo que en realidad esta experimentando el observador en movimiento. La ecuación que nos decribe este fenómeno es la siguiente\n",
    "\n",
    "$$\n",
    "\\Delta t=\\gamma\\Delta\\overline{t}\n",
    "$$\n",
    "\n",
    "gracias al factor de lorentz se puede verificar que siempre ocurre $t>\\overline{t}$. Esta ecuación la podemos derivar de la siguiente transformación de Lorentz inversa:\n",
    "\n",
    "$$\n",
    "t = \\gamma(\\overline{t}+v\\overline{x})\n",
    "$$\n",
    "\n",
    "en este caso estamos posicionando al sistema de coordenadas en movimiento como en el origen, es decir, $\\overline{t}=0$, ya que desde ambos eventos nos estamos centrando en el tiempo de la nave y solo de la nave, por eso es conveniente posicionar a la nave en el origen de coordenadas de su respectivo marco de referencia.\n",
    "\n",
    "Llegando a esta explicación ataquemos al problema; nos piden calcular dos tiempos desde perspectivas distintas de una nave en movimiento con  $v=0.99c$ recorriendo una distancia de 10 años luz. Como la velocidad de la nave esta bien definida y no nos importa mucho los efectos de masa (y por tanto Fuerza y Energía), tenemos que el tiempo que experimenta la nave en llegar a su destino es\n",
    "\n",
    "$$\n",
    "\\overline{t}=\\frac{d}{v}=10.101010\\, \\text{años}\n",
    "$$\n",
    "\n",
    "sin embargo pues ya saben que esto solo es válido en relatividad especial, en relatividad general saben que la masa aumenta tendiendo a infinito y la energía igual. Teniendo este tiempo lo sustituimos en la dilatación temporal y tenemos\n",
    "\n",
    "$$\n",
    "\\Delta t=\\gamma\\cdot 10.101010\\approx 71\\, \\text{años}\n",
    "$$\n",
    "\n",
    "Y con esto obtenemos ambos resultados. Si por alguna razón nos hubieran dado la información del tiempo que hizo la nave visto desde la tierra noten que podemos hacer\n",
    "\n",
    "$$\n",
    "\\Delta\\overline{t}=\\frac{\\Delta t}{\\gamma}\n",
    "$$\n",
    "\n",
    "y les saldrá el resultado de 10.101010 años. Muchos de ustedes pusieron 10.1010 años en el primer inciso y 70 en el segundo inciso, y no esta del todo mal la respuesta pero es un tanto confusa, es por ello que les di el chance de argumentarme cuales son las hipótesis para que esos resultados sean los correctos y así tener derecho al punto completo. Lo que pasa es que también tenemos la siguiente dilatación temporal\n",
    "\n",
    "$$\n",
    "\\Delta\\overline{t}=\\gamma t\n",
    "$$\n",
    "\n",
    "y en este caso $\\overline{t}>t$ y esto puede sonar paradójico con respecto de la otra dilatación temporal; esta dilatación temporal se deriva de la transformación de Lorentz del tiempo habitual pero en este caso las hipótesis cambian radicalmente en un giro de 180°. Esta dilatación temporal esta posicionando al marco de referencia en reposo en el centro de coordenadas, es decir, $x=0$ es como si estaramos midiendo el tiempo de la Tierra desde ambos marcos de referencia. Esto de alguna manera se traduce de la siguiente manera: la nave es como si permaneciera en reposo y fuera la Tierra la que se esta moviendo; esto puede ser posible porque al final existe relatividad del movimiento y todo depende de la perspectiva. Solo bajo estas hipótesis es que el inciso a) el tiempo es 10.101010 y el inciso b) 70 años.\n",
    "\n",
    "En relatividad todo depende desde que perspectiva midas..."
   ]
  },
  {
   "cell_type": "markdown",
   "id": "c98869c2",
   "metadata": {},
   "source": [
    "PD: Usen unidades geométricas para estos cálculos, es mejor que usar unidades de longitud y tiempo habituales ya que es mejor tener la concepción de 10 años luz de distancia que chorroscientos $km$ de distancia."
   ]
  },
  {
   "cell_type": "code",
   "execution_count": null,
   "id": "d11a23bc",
   "metadata": {},
   "outputs": [],
   "source": [
    "#Vamos a generar la función\n",
    "function tiempoRel(choice::String,x::Float64,v::Float64)\n",
    "    #Años desde la nave\n",
    "    t0 = x/v\n",
    "    #gamma\n",
    "    γ = 1/sqrt(1.0-v^2)\n",
    "    #Velocidad de la luz\n",
    "    c = 1\n",
    "    if choice == \"Movimiento\"\n",
    "        if v < c\n",
    "            return t0\n",
    "        else\n",
    "            print(\"No es una velocidad válida\")\n",
    "        end\n",
    "    elseif choice == \"Reposo\"\n",
    "        if v < c\n",
    "            return γ*t0\n",
    "        else\n",
    "            print(\"No es una velocidad válida\") \n",
    "        end\n",
    "    end\n",
    "end"
   ]
  },
  {
   "cell_type": "code",
   "execution_count": null,
   "id": "b407440d",
   "metadata": {},
   "outputs": [],
   "source": [
    "#a) desde la tierra\n",
    "tiempoRel(\"Reposo\",10.0,0.99)"
   ]
  },
  {
   "cell_type": "code",
   "execution_count": null,
   "id": "95e6d7b2",
   "metadata": {},
   "outputs": [],
   "source": [
    "#b) desde la perspectiva de la nave\n",
    "tiempoRel(\"Movimiento\",10.0,0.99)"
   ]
  },
  {
   "cell_type": "markdown",
   "id": "6ac22459",
   "metadata": {},
   "source": [
    "**4. Órbitas planetarias:** En el espacio, la órbita de un cuerpo alrededor de otro (como un planeta alrededor del Sol), no necesariamente es circular. En general, toma la forma de una elipse, con el cuerpo a veces más cerca y otras más lejos. Si tenemos la distancia $\\ell_1$ de máxima aproximación de un planeta al Sol (su *perihelio*), y su velocidad lineal $v_1$ en el perihelio, entonces cualquier otra propiedad de la órbita se puede calcular a partir de estas dos cantidades de la siguiente manera:"
   ]
  },
  {
   "cell_type": "markdown",
   "id": "8dc30476",
   "metadata": {},
   "source": [
    "  \n",
    "**a)** La segunda ley de Kepler nos dice que la distancia $\\ell_2$ y la velocidad $v_2$ del planeta en su punto más distante, o *afelio*, satisfacen que $\\ell_2 v_2 = \\ell_1 v_1$.  Al mismo tiempo, la energía total, cinética más la gravitatoria, de un planeta con velocidad $v$ y distancia $r$ del Sol está dada por:\n",
    "\n",
    "<h3 align=\"center\">$E = \\frac{1}{2} m v^2 - G {mM\\over r}$,</h3>\n",
    "        \n",
    "donde $m$ es la masa del planeta, $M=1.9891\\times10^{30}\\,$kg es la masa del Sol y $G=6.6738\\times10^{-11}\\,\\mathrm{m^3\\,kg^{-1}\\,s^{-2}}$ es la constante gravitatoria de Newton. Dado que la energía debe conservarse, demuestre que $v_2$ es la raíz más pequeña de la ecuación cuadrática:\n",
    "\n",
    "<h3 align=\"center\">$v_2^2 - {2GM\\over v_1\\ell_1} v_2 - \\biggl[ v_1^2 - {2GM\\over\\ell_1} \\biggr] = 0$.</h3>\n",
    "\n",
    "Una vez que tenemos $v_2$ podemos calcular $\\ell_2$  usando la relación $\\ell_2 = \\ell_1 v_1/v_2$."
   ]
  },
  {
   "cell_type": "markdown",
   "id": "a6ee7f1f",
   "metadata": {},
   "source": [
    "En clase han demostrado la expresión de este inciso, solo hay que aplicar la ecuación de la Energía total para ambos casos del perihelio y afhelio y proseguir por la conservación de la energía. \n",
    "\n",
    "El argumento de que $v_2$ tiene que ser menor que $v_1$ viene de la hipótesis $v_i\\ell_1=v_2\\ell_2$; si esta es considerada una igualdad y en un principio se sabe que $\\ell_1<\\ell_2$, entonces de manera inversa se debe de cumplir que $v_2<v_1$"
   ]
  },
  {
   "cell_type": "markdown",
   "id": "af8ec267",
   "metadata": {},
   "source": [
    "**Esta demostración en general la tuvieron bien, la trabajaron en clase y no hubo mayor problema. La parte acertada es que necesitabamos ocupar chicharronera para poder encontrar la $v_2$. Yo por ahí me confundí y mencioné que era una ecuación trascendental pero no jaja (la vdd quedé como payaso).**"
   ]
  },
  {
   "cell_type": "markdown",
   "id": "844d4f85",
   "metadata": {},
   "source": [
    "**b)** Dados los valores de $v_1$, $\\ell_1$, y $\\ell_2$; otros parámetros de la órbita se obtienen mediante fórmulas simples que pueden derivarse de las leyes de Kepler y del hecho de que la órbita es una elipse:\n",
    "\n",
    "<h4 align=\"center\">Semieje mayor: $\\; \\; \\; a = \\frac{1}{2}(\\ell_1+\\ell_2)$,</h4>\n",
    "\n",
    "<h4 align=\"center\">Semieje menor: $\\; \\; \\; b = \\sqrt{\\ell_1\\ell_2}$,</h4>\n",
    "\n",
    "<h4 align=\"center\">Período orbital: $\\; \\; \\; T = {2\\pi ab\\over\\ell_1 v_1}$,</h4>\n",
    "\n",
    "<h4 align=\"center\">Excentricidad orbital: $\\; \\; \\; e = {\\ell_2-\\ell_1\\over\\ell_2+\\ell_1}$.</h4>\n",
    "\n",
    "Escribe un programa que le pida al usuario que ingrese la distancia al Sol y la velocidad en el perihelio; para que calcule e imprima las cantidades:\n",
    "\n",
    "$\\ell_2$, $v_2$, $T$ y $e$."
   ]
  },
  {
   "cell_type": "markdown",
   "id": "bc60e22c",
   "metadata": {},
   "source": [
    "Aquí había de dos sopas, o resolvías la ecuación cuadrática con chicharronera (que es lo que la mayoría hizo y les quedó chulo; o bien pueden usar una librería para que les resuelva la chamba XD. Por ahí uno de sus compañeros vi que usó `SymPy` de python y como la mayría de las librerías de python están disponibles en Julia me gustaría mostrarles como se pueden usar.\n",
    "\n",
    "Para ello recuerden que primero hay que instalar la librería, con \n",
    "\n",
    "`import Pkg`\n",
    "\n",
    "`Pkg.add(\"SymPy\")`\n",
    "\n",
    "Una vez hecho la incluimos en alguna celda y esta lista para usarse. Les recomiendo que busquen la documentación de la función `solve()` para que sepan como usarla, sobre todo desde la perspectiva de Julia si es que lo quieren intentar aquí."
   ]
  },
  {
   "cell_type": "code",
   "execution_count": 4,
   "id": "8e244ddb",
   "metadata": {},
   "outputs": [],
   "source": [
    "using SymPy"
   ]
  },
  {
   "cell_type": "code",
   "execution_count": 42,
   "id": "ecaceee9-51c6-4b60-b5b7-f7dc783d0675",
   "metadata": {},
   "outputs": [
    {
     "data": {
      "text/plain": [
       "29305.39917726144"
      ]
     },
     "execution_count": 42,
     "metadata": {},
     "output_type": "execute_result"
    }
   ],
   "source": [
    "v1 = 3.0287E4\n",
    "ℓ1 = 1.4710E11\n",
    "G = 6.6738E-11\n",
    "M = 1.9891E30\n",
    "v2 = symbols(\"v2\")\n",
    "p = v2^2-(2G*M*v2)/(v1*ℓ1)-(v1^2-(2G*M)/ℓ1)\n",
    "V2 = solveset(p,v2)\n",
    "Float64(minimum(V2))"
   ]
  },
  {
   "cell_type": "code",
   "execution_count": 43,
   "id": "1e1dd589",
   "metadata": {},
   "outputs": [
    {
     "data": {
      "text/plain": [
       "cantidades (generic function with 1 method)"
      ]
     },
     "execution_count": 43,
     "metadata": {},
     "output_type": "execute_result"
    }
   ],
   "source": [
    "function cantidades(ℓ1::Float64,v1::Float64)\n",
    "    #Constantes\n",
    "    G = 6.6738E-11\n",
    "    M = 1.9891E30\n",
    "    #Velocidad afhelio; usamos solveset()\n",
    "    v2 = symbols(\"v2\")\n",
    "    p = v2^2-(2G*M*v2)/(v1*ℓ1)-(v1^2-(2G*M)/ℓ1)\n",
    "    V2 = solveset(p,v2)\n",
    "    V2 = Float64(minimum(V2))\n",
    "    #Distancia afhelio\n",
    "    ℓ2 = ℓ1*v1/V2\n",
    "    #Semieje mayor\n",
    "    a = 0.5(ℓ1+ℓ2)\n",
    "    #Semi eje menor\n",
    "    b = sqrt(ℓ1*ℓ2)\n",
    "    #Periodo\n",
    "    T = (2π*a*b)/(ℓ1*v1)\n",
    "    #Excentricidad\n",
    "    e = (ℓ2-ℓ1)/(ℓ2+ℓ1)\n",
    "    return (ℓ2,V2,T,e)\n",
    "end"
   ]
  },
  {
   "cell_type": "code",
   "execution_count": 44,
   "id": "c28da562",
   "metadata": {},
   "outputs": [
    {
     "data": {
      "text/plain": [
       "(1.5202719720865906e11, 29305.39917726144, 3.1543060207886748e7, 0.01647191313473928)"
      ]
     },
     "execution_count": 44,
     "metadata": {},
     "output_type": "execute_result"
    }
   ],
   "source": [
    "(ℓ2,v2,T,e) = cantidades(1.4710E11,3.0287E4)"
   ]
  },
  {
   "cell_type": "markdown",
   "id": "35f9a52b",
   "metadata": {},
   "source": [
    "**c)** Prueba tu programa haciendo que calcule las propiedades de las órbitas de la Tierra (para las cuales $\\ell_1=1.4710\\times10^{11}\\,$m y $v_1=3.0287\\times10^4\\,\\mathrm{m\\,s^{-1}}$)  y del cometa Halley ($\\ell_1=8.7830\\times10^{10}\\,$m y $v_1=5.4529\\times10^4\\,\\mathrm{m\\,s^{-1}}$). Entre otras cosas, deberías encontrar que el período orbital de la Tierra es de un año y el del cometa Halley es de unos 76 años."
   ]
  },
  {
   "cell_type": "code",
   "execution_count": null,
   "id": "f16a3a29",
   "metadata": {},
   "outputs": [],
   "source": [
    "(ℓ2T,v2T,TT,eT) = cantidades(1.4710E11,3.0287E4)"
   ]
  },
  {
   "cell_type": "code",
   "execution_count": null,
   "id": "2f21029d",
   "metadata": {},
   "outputs": [],
   "source": [
    "(ℓ2H,v2H,TH,eH) = cantidades(8.7830E10,5.4529E4)"
   ]
  },
  {
   "cell_type": "code",
   "execution_count": null,
   "id": "d0bfd38f",
   "metadata": {},
   "outputs": [],
   "source": [
    "println(\"Para las propiedades de la Tierra tenemos: ℓ2 = \",ℓ2T)\n",
    "println(\"velocidad del afhelio v2 = \",v2T)\n",
    "println(\"Periodo T = \",TT)\n",
    "println(\"Excentricidad e = \",eT)"
   ]
  },
  {
   "cell_type": "code",
   "execution_count": null,
   "id": "1b5fde1a",
   "metadata": {},
   "outputs": [],
   "source": [
    "println(\"Para las propiedades del cometa Halley tenemos: ℓ2 = \",ℓ2H)\n",
    "println(\"velocidad del afhelio v2 = \",v2H)\n",
    "println(\"Periodo T = \",TH)\n",
    "println(\"Excentricidad e = \",eH)"
   ]
  },
  {
   "cell_type": "markdown",
   "id": "6a2118e0",
   "metadata": {},
   "source": [
    "Para sacar el periodo orbital de cada caso había que dividir cada uno entre el número de segundos en un año."
   ]
  },
  {
   "cell_type": "code",
   "execution_count": null,
   "id": "f513b4a4",
   "metadata": {},
   "outputs": [],
   "source": [
    "println(TT/(86400*365))\n",
    "println(TH/(86400*365))"
   ]
  },
  {
   "cell_type": "markdown",
   "id": "fec7ddf4",
   "metadata": {},
   "source": [
    "**5. La fórmula semiempírica de la masa (FSM)**\n",
    "\n",
    "En física nuclear, la **fórmula de Weizsäcker** (conocida también como fórmula semiempírica) sirve para evaluar la masa y otras propiedades de un núcleo atómico; y está basada parcialmente en mediciones empíricas. En particular la fórmula se usa para calcular la \\textbf{\\textit{energía de enlace nuclear aproximada}} $B$, de un núcleo atómico con número atómico $Z$ y número de masa $A$:\n",
    "\n",
    "<h3 align=\"center\">$B = a_1 A - a_2 A^{2/3} - a_3 {Z^2\\over A^{1/3}} - a_4 {(A - 2Z)^2\\over A} + {a_5\\over A^{1/2}}$,</h3>\n",
    "\n",
    "donde, en unidades de millones de electrón-volts, las constantes son $a_1=15.8$, $a_2=18.3$, $a_3=0.714$, $a_4=23.2$ y          \n",
    "<h6 align=\"center\">\n",
    "$a_5 =\n",
    "  \\left \\{\n",
    "    \\begin{aligned}\n",
    "      0 & \\; \\text{si} \\ A \\; \\text{es impar,} \\\\\n",
    "      12.0 & \\; \\text{si} \\ A \\; \\text{y} \\; Z \\; \\text{son pares (ambos),} \\\\\n",
    "      -12.0 & \\; \\text{si} \\ A \\; \\text{es par y} \\; Z \\; \\text{impar}\n",
    "    \\end{aligned}\n",
    "  \\right.\n",
    "$\n",
    "</h6>"
   ]
  },
  {
   "cell_type": "markdown",
   "id": "f4d68b11",
   "metadata": {},
   "source": [
    "Este ejercicio en general iba complicándose más y más conforme avanzabas de inciso; pero en general todos tuvieron bien el primer inciso y el segundo. Aplicaron de manera adecuada los condicionales solo que en algunos casos pasaba que el caso `A%2 != 0` no se cumplía bien y había una ligera falla. Chequen bien sus resultados con respecto de los que pondré a continuacón y corrigan cualquier detalle."
   ]
  },
  {
   "cell_type": "markdown",
   "id": "913416e3",
   "metadata": {},
   "source": [
    "**a)** Escribe un programa que tome como entrada los valores de $A$ y $Z$, e imprima la energía de enlace $B$ para el átomo correspondiente. Usa tu programa para encontrar la energía de enlace de un átomo con $A=58$ y $Z=28$ (Hint: La respuesta correcta es alrededor de los $490\\,$MeV)."
   ]
  },
  {
   "cell_type": "code",
   "execution_count": null,
   "id": "13517799",
   "metadata": {},
   "outputs": [],
   "source": [
    "function bEnergy(A::Int,Z::Int)\n",
    "    a1 = 15.8\n",
    "    a2 = 18.3\n",
    "    a3 = 0.714\n",
    "    a4 = 23.2\n",
    "    a5 = 0\n",
    "    if mod(A,2) != 0\n",
    "        @goto escape_label#Esta instrucción lo que hace es ignorar, es como un especie de continue, pero no es igual\n",
    "    elseif mod(A,2) == 0 && mod(Z,2) == 0\n",
    "        a5 = 12\n",
    "    elseif mod(A,2) == 0 && mod(Z,2) != 0\n",
    "        a5 = -12\n",
    "    end\n",
    "    \n",
    "    @label escape_label\n",
    "    \n",
    "    B = a1*A-a2*A^(2/3)-a3*Z^2/A^(1/3)-a4*(A-2Z)^2/A+a5/A^(1/2)\n",
    "    return B \n",
    "end"
   ]
  },
  {
   "cell_type": "code",
   "execution_count": null,
   "id": "67b54429",
   "metadata": {},
   "outputs": [],
   "source": [
    "bEnergy(58,28)"
   ]
  },
  {
   "cell_type": "markdown",
   "id": "fdd8e818",
   "metadata": {},
   "source": [
    "**b)** Modifica el programa del inciso anterior, para escribir una segunda versión que imprima no la energía de enlace total $B$, sino la energía de unión por nucleón, que es $B/A$."
   ]
  },
  {
   "cell_type": "code",
   "execution_count": null,
   "id": "dde86558",
   "metadata": {},
   "outputs": [],
   "source": [
    "function bEnergyb(A::Int,Z::Int)\n",
    "    return bEnergy(A,Z)/A\n",
    "end"
   ]
  },
  {
   "cell_type": "code",
   "execution_count": null,
   "id": "1bac692c",
   "metadata": {},
   "outputs": [],
   "source": [
    "bEnergyb(58,28)"
   ]
  },
  {
   "cell_type": "markdown",
   "id": "05fe301e",
   "metadata": {},
   "source": [
    "**c)** Escribe una tercera versión del programa para que tome como entrada solo un valor del número atómico $Z$ y luego pase por todos los valores de $A$ desde $A=Z$ hasta $A=3Z$, para encontrar el que tiene la mayor energía de enlace por nucleón . Este es el núcleo más estable con el número atómico dado. Haz que tu programa imprima el valor de $A$ para este núcleo más estable y el valor de la energía de enlace por nucleón."
   ]
  },
  {
   "cell_type": "markdown",
   "id": "c7c1fc0c",
   "metadata": {},
   "source": [
    "Aquí y en el siguiente inciso se desató el terror porque había que usar bucles y la manera de hallar los valores más grandes. Varios de ustedes usaron condicionales y en pocos casos los aplicaron bien pero en la mayoría de los casos no estaba entregando de manera adecuada el resultado que esperabamos que era $A=62$ y $BE=  8.70245768367189$\n",
    "\n",
    "En este ejercicio había que agarrarnos lo que habíamos construido en los ejercicios anteriores, pero irlo probando para cada $A$ en un conjunto `range(Z,3Z+1)`. Para ello era necesario definir el conjunto y una lista vacía antes de comezar el ciclo `for`. PAra cada iteración del ciclo ibamos a necesitar la $a_5$ de acuerdo a sus especificaciones y al momento de definir la energía esta la dividíamos entre la $A$ de la iteración (para tener la energía por nucleón desde el principio) y posteriormente la guardábamos en una lista junto con su correspondiente $A$.\n",
    "\n",
    "Al finalizar el proceso ahora tenemos una lista con todas las energías por nucleón y cada $A$ posibles para la $Z$ que se prefiera, al final nada más aplicamos `maximum()` en Julia o `max()` en python para que nos regrese automáticamente el máximo valor de la energía por nucleón; fíjense que con ello nos ahorramos el haber encontrado de paso a su $A$ correspondiente."
   ]
  },
  {
   "cell_type": "code",
   "execution_count": null,
   "id": "c71fd255",
   "metadata": {},
   "outputs": [],
   "source": [
    "function bEnergyc(Z::Int)\n",
    "    a1 = 15.8\n",
    "    a2 = 18.3\n",
    "    a3 = 0.714\n",
    "    a4 = 23.2\n",
    "    A = [i for i in Z:3Z] \n",
    "    BE = []\n",
    "    for i in A\n",
    "        if mod(i,2) != 0\n",
    "            a5 = 0\n",
    "        elseif mod(i,2) == 0 && mod(Z,2) == 0\n",
    "            a5 = 12\n",
    "        elseif mod(i,2) == 0 && mod(Z,2) != 0\n",
    "            a5 = -12\n",
    "        end\n",
    "        \n",
    "        B = a1*i - a2*i^(2/3) - a3*Z^2/i^(1/3) - a4*(i-2Z)^2/i + a5/i^(1/2)\n",
    "        push!(BE,[B/i,i])\n",
    "    end\n",
    "    \n",
    "    \n",
    "        \n",
    "    return maximum(BE)\n",
    "end"
   ]
  },
  {
   "cell_type": "code",
   "execution_count": null,
   "id": "5fab0406",
   "metadata": {},
   "outputs": [],
   "source": [
    "bEnergyc(28)"
   ]
  },
  {
   "cell_type": "markdown",
   "id": "81cc9067",
   "metadata": {},
   "source": [
    "**d)** Finalmente, escribe una cuarta versión del programa que, en lugar de tomar $Z$ como entrada, se ejecute a través de todos los valores de $Z$ de 1 a 100 e imprima el valor más estable de $A$ para cada uno. ¿A qué valor de $Z$ se produce la energía de enlace máxima por nucleón? (La respuesta correcta, en la vida real, es $Z=28$, que corresponde al Níquel)."
   ]
  },
  {
   "cell_type": "markdown",
   "id": "d1144500",
   "metadata": {},
   "source": [
    "Este ejercicio sigue la lógica del ejercicio anterior solo que insertando un ciclo `for` más al ecosistema. En este caso yo decidí correrlos desde 1 a 100 para el caso de las $Z$ y desde 1 a 300 para el caso de las $A$ (pero creo que pudo haber sido menos). En este caso igual vamos a definir no una, sino dos listas vacías en donde la primera va a contener TODOS las energías posibles para cada $Z$, en este caso hay que encontrar la máxima y ese valor máximo lo guardamos en la segunda lista; esa lista va a contener todas las energías máximas posibles para cada $Z$ y al final nada más nos hace falta buscar la máxima de las máximas y para ello aplicamos nuevamente `maximum()` o `max()` y listo."
   ]
  },
  {
   "cell_type": "code",
   "execution_count": null,
   "id": "1c8ef767",
   "metadata": {},
   "outputs": [],
   "source": [
    "function bEnergyd()\n",
    "    a1 = 15.8\n",
    "    a2 = 18.3\n",
    "    a3 = 0.714\n",
    "    a4 = 23.2\n",
    "    a5 = 0\n",
    "    BE = []\n",
    "    for z in 1:100\n",
    "        be = []\n",
    "        for a in 1:300\n",
    "            if mod(a,2) != 0\n",
    "                continue\n",
    "            elseif mod(a,2) == 0 && mod(z,2) == 0\n",
    "                a5 = 12\n",
    "            elseif mod(a,2) == 0 && mod(z,2) != 0\n",
    "                a5 = -12\n",
    "            end\n",
    "\n",
    "            B = a1*a - a2*a^(2/3) - a3*z^2/a^(1/3) - a4*(a-2z)^2/a + a5/a^(1/2)\n",
    "            push!(be,(B/a,a,z))\n",
    "            \n",
    "        end\n",
    "        \n",
    "        push!(BE,maximum(be))\n",
    "        \n",
    "       \n",
    "    end\n",
    "    \n",
    "    \n",
    "        \n",
    "    return BE\n",
    "end"
   ]
  },
  {
   "cell_type": "markdown",
   "id": "e2501470",
   "metadata": {},
   "source": [
    "Aquí decidí mostrar las energías máximas para cada $Z$ con sus respectivas $A$."
   ]
  },
  {
   "cell_type": "code",
   "execution_count": null,
   "id": "cc2df51e",
   "metadata": {},
   "outputs": [],
   "source": [
    "bEnergyd()"
   ]
  },
  {
   "cell_type": "markdown",
   "id": "ed369bad",
   "metadata": {},
   "source": [
    "y acá tenemos la máxima de las máximas."
   ]
  },
  {
   "cell_type": "code",
   "execution_count": null,
   "id": "705fa87e",
   "metadata": {},
   "outputs": [],
   "source": [
    "maximum(bEnergyd())"
   ]
  }
 ],
 "metadata": {
  "kernelspec": {
   "display_name": "Julia 1.10.4",
   "language": "julia",
   "name": "julia-1.10"
  },
  "language_info": {
   "file_extension": ".jl",
   "mimetype": "application/julia",
   "name": "julia",
   "version": "1.10.4"
  }
 },
 "nbformat": 4,
 "nbformat_minor": 5
}
