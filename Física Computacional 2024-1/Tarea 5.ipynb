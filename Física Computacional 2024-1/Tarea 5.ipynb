{
 "cells": [
  {
   "cell_type": "markdown",
   "id": "552701f5",
   "metadata": {},
   "source": [
    "# Tarea 5, última evaluación del semestre. \n",
    "\n",
    "Hay que echarle ganas, por los alumnos :(\n"
   ]
  },
  {
   "cell_type": "code",
   "execution_count": 2,
   "id": "285e8bfc",
   "metadata": {},
   "outputs": [],
   "source": [
    "# Antes de todo, se importan las bibliotecas de interes\n",
    "from math import pi,e,factorial\n",
    "import numpy as np\n",
    "import scipy as sp\n",
    "import matplotlib.pyplot as plt"
   ]
  },
  {
   "cell_type": "code",
   "execution_count": 5,
   "id": "affbaa0f",
   "metadata": {},
   "outputs": [
    {
     "data": {
      "text/plain": [
       "array([[ 2.,  1.,  4.,  1.],\n",
       "       [ 3.,  4., -1., -1.],\n",
       "       [ 1., -4.,  1.,  5.],\n",
       "       [ 2., -2.,  1.,  3.]])"
      ]
     },
     "execution_count": 5,
     "metadata": {},
     "output_type": "execute_result"
    }
   ],
   "source": [
    "A = np.array([[2,1,4,1],\n",
    "             [3,4,-1,-1],\n",
    "             [1,-4,1,5],\n",
    "             [2,-2,1,3]],float)\n",
    "A"
   ]
  },
  {
   "cell_type": "code",
   "execution_count": 6,
   "id": "820786bd",
   "metadata": {},
   "outputs": [
    {
     "data": {
      "text/plain": [
       "-1.0"
      ]
     },
     "execution_count": 6,
     "metadata": {},
     "output_type": "execute_result"
    }
   ],
   "source": [
    "A[1,2]"
   ]
  },
  {
   "cell_type": "code",
   "execution_count": 7,
   "id": "fd98b50f",
   "metadata": {},
   "outputs": [],
   "source": [
    "v = np.array([-4,3,9,7],float)"
   ]
  },
  {
   "cell_type": "code",
   "execution_count": 10,
   "id": "a7ea2981",
   "metadata": {},
   "outputs": [
    {
     "data": {
      "text/plain": [
       "9.0"
      ]
     },
     "execution_count": 10,
     "metadata": {},
     "output_type": "execute_result"
    }
   ],
   "source": [
    "v[-2]"
   ]
  },
  {
   "cell_type": "code",
   "execution_count": 11,
   "id": "95bdf3e6",
   "metadata": {},
   "outputs": [],
   "source": [
    "v = np.array([2,-1,-2,1],float)"
   ]
  },
  {
   "cell_type": "code",
   "execution_count": 12,
   "id": "1957351e",
   "metadata": {},
   "outputs": [
    {
     "data": {
      "text/plain": [
       "array([[ 4., -1., -8.,  1.],\n",
       "       [ 6., -4.,  2., -1.],\n",
       "       [ 2.,  4., -2.,  5.],\n",
       "       [ 4.,  2., -2.,  3.]])"
      ]
     },
     "execution_count": 12,
     "metadata": {},
     "output_type": "execute_result"
    }
   ],
   "source": [
    "A*v"
   ]
  },
  {
   "cell_type": "code",
   "execution_count": null,
   "id": "56356d4d",
   "metadata": {},
   "outputs": [],
   "source": []
  }
 ],
 "metadata": {
  "kernelspec": {
   "display_name": "Python 3 (ipykernel)",
   "language": "python",
   "name": "python3"
  },
  "language_info": {
   "codemirror_mode": {
    "name": "ipython",
    "version": 3
   },
   "file_extension": ".py",
   "mimetype": "text/x-python",
   "name": "python",
   "nbconvert_exporter": "python",
   "pygments_lexer": "ipython3",
   "version": "3.9.13"
  }
 },
 "nbformat": 4,
 "nbformat_minor": 5
}
