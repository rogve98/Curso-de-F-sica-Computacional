{
 "cells": [
  {
   "cell_type": "markdown",
   "id": "d53f971b-5a44-4ef3-bc7b-3ad081264c9d",
   "metadata": {},
   "source": [
    "# Tarea 4: Error numérico\n"
   ]
  },
  {
   "cell_type": "code",
   "execution_count": 2,
   "id": "ef2fd2af-7f8f-4ea6-b9fd-411be56f6e52",
   "metadata": {},
   "outputs": [],
   "source": [
    "l = [1,0,3]\n",
    "L = enumerate(l)"
   ]
  },
  {
   "cell_type": "code",
   "execution_count": 8,
   "id": "b49c833d-ed8d-4cac-b65b-7b2e17f964dd",
   "metadata": {},
   "outputs": [
    {
     "name": "stdout",
     "output_type": "stream",
     "text": [
      "[(0, 1), (1, 2), (2, 3)]\n"
     ]
    }
   ],
   "source": [
    "print(list(L))"
   ]
  },
  {
   "cell_type": "code",
   "execution_count": 14,
   "id": "97e46f53-f041-4175-9137-d2e718093932",
   "metadata": {},
   "outputs": [
    {
     "ename": "TypeError",
     "evalue": "int() can't convert non-string with explicit base",
     "output_type": "error",
     "traceback": [
      "\u001b[1;31m---------------------------------------------------------------------------\u001b[0m",
      "\u001b[1;31mTypeError\u001b[0m                                 Traceback (most recent call last)",
      "Cell \u001b[1;32mIn[14], line 1\u001b[0m\n\u001b[1;32m----> 1\u001b[0m \u001b[38;5;28mint\u001b[39m(l[\u001b[38;5;241m1\u001b[39m:\u001b[38;5;241m2\u001b[39m],\u001b[38;5;241m2\u001b[39m)\n",
      "\u001b[1;31mTypeError\u001b[0m: int() can't convert non-string with explicit base"
     ]
    }
   ],
   "source": [
    "int(l[1:2],2)"
   ]
  },
  {
   "cell_type": "code",
   "execution_count": 18,
   "id": "b28d3316-d4da-482f-a5c4-a3a85a188ec0",
   "metadata": {},
   "outputs": [
    {
     "name": "stdout",
     "output_type": "stream",
     "text": [
      "El valor decimal es: 5.0\n"
     ]
    }
   ],
   "source": [
    "def ieee754_to_decimal(ieee):\n",
    "    # Asegurarse de que el número es de 32 bits\n",
    "    if len(ieee) != 32:\n",
    "        raise ValueError(\"La representación binaria debe tener 32 bits\")\n",
    "\n",
    "    # Paso 1: Obtener el signo\n",
    "    sign = int(ieee[0])\n",
    "\n",
    "    # Paso 2: Obtener el exponente (bits 1 a 8)\n",
    "    exponent_bits = ieee[1:9]\n",
    "    exponent = int(exponent_bits, 2) - 127  # Bias es 127 para precisión simple\n",
    "\n",
    "    # Paso 3: Obtener la mantisa (bits 9 a 31)\n",
    "    mantissa_bits = ieee[9:]\n",
    "    mantissa = 1.0  # El bit implícito es 1\n",
    "    for i, bit in enumerate(mantissa_bits):\n",
    "        mantissa += int(bit) * 2**(-(i+1))  # Sumar las potencias decrecientes de 2\n",
    "\n",
    "    # Paso 4: Calcular el valor decimal\n",
    "    decimal_value = (-1)**sign * mantissa * 2**exponent\n",
    "    return decimal_value,exponent_bits\n",
    "\n",
    "# Ejemplo de uso:\n",
    "ieee_input = \"01000000101000000000000000000000\"  # Ejemplo: 32 bits IEEE 754\n",
    "decimal_result,e = ieee754_to_decimal(ieee_input)\n",
    "print(f\"El valor decimal es: {decimal_result}\")\n"
   ]
  },
  {
   "cell_type": "code",
   "execution_count": 26,
   "id": "c7d83368-8376-4ce7-8201-c6407e985aee",
   "metadata": {},
   "outputs": [
    {
     "data": {
      "text/plain": [
       "129"
      ]
     },
     "execution_count": 26,
     "metadata": {},
     "output_type": "execute_result"
    }
   ],
   "source": [
    "int('10000001',2)"
   ]
  },
  {
   "cell_type": "code",
   "execution_count": 21,
   "id": "9d87ced7-7d0b-4987-a2d0-6289ebd276d7",
   "metadata": {},
   "outputs": [
    {
     "data": {
      "text/plain": [
       "'10000001'"
      ]
     },
     "execution_count": 21,
     "metadata": {},
     "output_type": "execute_result"
    }
   ],
   "source": [
    "e"
   ]
  },
  {
   "cell_type": "code",
   "execution_count": null,
   "id": "06775726-5d81-4544-bf81-ff578a586020",
   "metadata": {},
   "outputs": [],
   "source": []
  }
 ],
 "metadata": {
  "kernelspec": {
   "display_name": "Python 3 (ipykernel)",
   "language": "python",
   "name": "python3"
  },
  "language_info": {
   "codemirror_mode": {
    "name": "ipython",
    "version": 3
   },
   "file_extension": ".py",
   "mimetype": "text/x-python",
   "name": "python",
   "nbconvert_exporter": "python",
   "pygments_lexer": "ipython3",
   "version": "3.12.3"
  }
 },
 "nbformat": 4,
 "nbformat_minor": 5
}
