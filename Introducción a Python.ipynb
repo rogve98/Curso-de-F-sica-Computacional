{
 "cells": [
  {
   "cell_type": "markdown",
   "id": "98bdec95-992f-4bbc-8847-3cfaeb7f2aee",
   "metadata": {},
   "source": [
    "# Introducción a Python\n",
    "\n",
    "Este notebook tendrá la finalidad de cubrir todo lo necesario para poder llevar a cabo el curso intensivo de manera apropiada. Se cubrirán temas esenciales sobre \n",
    "* tipos de datos\n",
    "* estructuras de datos\n",
    "* estructuras de control\n",
    "  \n",
    "También se verá el uso conveniente de algunas funciones que podrían servir en un futuro para el desarrollo de los algoritmos que se vayan a trabajar.\n",
    "\n",
    "## Bibliotecas\n",
    "\n",
    "Comenzando primero por explicar que son las bibliotecas y cuál es la forma apropiada para mandarlas a llamar. Son considerados un conjunto de bloques que tienen la capacidad de almacenar una gran cantidad de funciones, métodos, tipos y estructuras de datos; serán útiles par diversos fines que pueden enfocarse en\n",
    "\n",
    "* Cómputo científico y fórmulas matemáticas (numpy)\n",
    "* Graficación (matplotlib)\n",
    "* Pandas (manejo de datos masivos)\n",
    "\n",
    "Entre otras más espcializadas y que servirán para Machine Learning, tratamiento de imágenes, Redes complejas, etc. La forma apropiada de instalar las librerías dependerá de la forma en que se haya instalado Python. Si se ha instalado por la distribución Anaconda, servirá el siguiente comando en la terminal para poder instalar paquetes:\n",
    "\n",
    "* conda install \\<Paquete>\n",
    "* pip install \\<Paquete>\n",
    "\n",
    "Sin embargo Python tiene un instalador de paquetes nativo llamado pip el cual también es una opción."
   ]
  },
  {
   "cell_type": "code",
   "execution_count": 2,
   "id": "9f33c299-ba44-44b7-b969-1123044caec4",
   "metadata": {},
   "outputs": [],
   "source": [
    "#Una vez tenida la instalación se procede a referenciarlo dentro del notebook para poder disponer de su contenido\n",
    "import numpy as np\n",
    "from math import *"
   ]
  },
  {
   "cell_type": "code",
   "execution_count": null,
   "id": "da3eaca3-0011-4aa8-a859-44455d67f64f",
   "metadata": {},
   "outputs": [],
   "source": [
    "#presionar la tecla tab para observar las opciones que dispone la librería numpy con el alias npb\n",
    "np."
   ]
  },
  {
   "cell_type": "code",
   "execution_count": null,
   "id": "a5718cfe-6262-4a06-9807-794217c4d939",
   "metadata": {},
   "outputs": [],
   "source": [
    "exp"
   ]
  },
  {
   "cell_type": "code",
   "execution_count": 8,
   "id": "88100f8a-e226-4f72-8658-172400257d7e",
   "metadata": {},
   "outputs": [
    {
     "data": {
      "text/plain": [
       "\u001b[1;31mSignature:\u001b[0m      \n",
       "\u001b[0mnp\u001b[0m\u001b[1;33m.\u001b[0m\u001b[0msum\u001b[0m\u001b[1;33m(\u001b[0m\u001b[1;33m\n",
       "\u001b[0m    \u001b[0ma\u001b[0m\u001b[1;33m,\u001b[0m\u001b[1;33m\n",
       "\u001b[0m    \u001b[0maxis\u001b[0m\u001b[1;33m=\u001b[0m\u001b[1;32mNone\u001b[0m\u001b[1;33m,\u001b[0m\u001b[1;33m\n",
       "\u001b[0m    \u001b[0mdtype\u001b[0m\u001b[1;33m=\u001b[0m\u001b[1;32mNone\u001b[0m\u001b[1;33m,\u001b[0m\u001b[1;33m\n",
       "\u001b[0m    \u001b[0mout\u001b[0m\u001b[1;33m=\u001b[0m\u001b[1;32mNone\u001b[0m\u001b[1;33m,\u001b[0m\u001b[1;33m\n",
       "\u001b[0m    \u001b[0mkeepdims\u001b[0m\u001b[1;33m=\u001b[0m\u001b[1;33m<\u001b[0m\u001b[0mno\u001b[0m \u001b[0mvalue\u001b[0m\u001b[1;33m>\u001b[0m\u001b[1;33m,\u001b[0m\u001b[1;33m\n",
       "\u001b[0m    \u001b[0minitial\u001b[0m\u001b[1;33m=\u001b[0m\u001b[1;33m<\u001b[0m\u001b[0mno\u001b[0m \u001b[0mvalue\u001b[0m\u001b[1;33m>\u001b[0m\u001b[1;33m,\u001b[0m\u001b[1;33m\n",
       "\u001b[0m    \u001b[0mwhere\u001b[0m\u001b[1;33m=\u001b[0m\u001b[1;33m<\u001b[0m\u001b[0mno\u001b[0m \u001b[0mvalue\u001b[0m\u001b[1;33m>\u001b[0m\u001b[1;33m,\u001b[0m\u001b[1;33m\n",
       "\u001b[0m\u001b[1;33m)\u001b[0m\u001b[1;33m\u001b[0m\u001b[1;33m\u001b[0m\u001b[0m\n",
       "\u001b[1;31mCall signature:\u001b[0m  \u001b[0mnp\u001b[0m\u001b[1;33m.\u001b[0m\u001b[0msum\u001b[0m\u001b[1;33m(\u001b[0m\u001b[1;33m*\u001b[0m\u001b[0margs\u001b[0m\u001b[1;33m,\u001b[0m \u001b[1;33m**\u001b[0m\u001b[0mkwargs\u001b[0m\u001b[1;33m)\u001b[0m\u001b[1;33m\u001b[0m\u001b[1;33m\u001b[0m\u001b[0m\n",
       "\u001b[1;31mType:\u001b[0m            _ArrayFunctionDispatcher\n",
       "\u001b[1;31mString form:\u001b[0m     <function sum at 0x0000023FACFDD440>\n",
       "\u001b[1;31mFile:\u001b[0m            c:\\users\\rodrigo\\anaconda3\\lib\\site-packages\\numpy\\core\\fromnumeric.py\n",
       "\u001b[1;31mSource:\u001b[0m         \n",
       "\u001b[1;33m@\u001b[0m\u001b[0marray_function_dispatch\u001b[0m\u001b[1;33m(\u001b[0m\u001b[0m_sum_dispatcher\u001b[0m\u001b[1;33m)\u001b[0m\u001b[1;33m\n",
       "\u001b[0m\u001b[1;32mdef\u001b[0m \u001b[0msum\u001b[0m\u001b[1;33m(\u001b[0m\u001b[0ma\u001b[0m\u001b[1;33m,\u001b[0m \u001b[0maxis\u001b[0m\u001b[1;33m=\u001b[0m\u001b[1;32mNone\u001b[0m\u001b[1;33m,\u001b[0m \u001b[0mdtype\u001b[0m\u001b[1;33m=\u001b[0m\u001b[1;32mNone\u001b[0m\u001b[1;33m,\u001b[0m \u001b[0mout\u001b[0m\u001b[1;33m=\u001b[0m\u001b[1;32mNone\u001b[0m\u001b[1;33m,\u001b[0m \u001b[0mkeepdims\u001b[0m\u001b[1;33m=\u001b[0m\u001b[0mnp\u001b[0m\u001b[1;33m.\u001b[0m\u001b[0m_NoValue\u001b[0m\u001b[1;33m,\u001b[0m\u001b[1;33m\n",
       "\u001b[0m        \u001b[0minitial\u001b[0m\u001b[1;33m=\u001b[0m\u001b[0mnp\u001b[0m\u001b[1;33m.\u001b[0m\u001b[0m_NoValue\u001b[0m\u001b[1;33m,\u001b[0m \u001b[0mwhere\u001b[0m\u001b[1;33m=\u001b[0m\u001b[0mnp\u001b[0m\u001b[1;33m.\u001b[0m\u001b[0m_NoValue\u001b[0m\u001b[1;33m)\u001b[0m\u001b[1;33m:\u001b[0m\u001b[1;33m\n",
       "\u001b[0m    \u001b[1;34m\"\"\"\n",
       "    Sum of array elements over a given axis.\n",
       "\n",
       "    Parameters\n",
       "    ----------\n",
       "    a : array_like\n",
       "        Elements to sum.\n",
       "    axis : None or int or tuple of ints, optional\n",
       "        Axis or axes along which a sum is performed.  The default,\n",
       "        axis=None, will sum all of the elements of the input array.  If\n",
       "        axis is negative it counts from the last to the first axis.\n",
       "\n",
       "        .. versionadded:: 1.7.0\n",
       "\n",
       "        If axis is a tuple of ints, a sum is performed on all of the axes\n",
       "        specified in the tuple instead of a single axis or all the axes as\n",
       "        before.\n",
       "    dtype : dtype, optional\n",
       "        The type of the returned array and of the accumulator in which the\n",
       "        elements are summed.  The dtype of `a` is used by default unless `a`\n",
       "        has an integer dtype of less precision than the default platform\n",
       "        integer.  In that case, if `a` is signed then the platform integer\n",
       "        is used while if `a` is unsigned then an unsigned integer of the\n",
       "        same precision as the platform integer is used.\n",
       "    out : ndarray, optional\n",
       "        Alternative output array in which to place the result. It must have\n",
       "        the same shape as the expected output, but the type of the output\n",
       "        values will be cast if necessary.\n",
       "    keepdims : bool, optional\n",
       "        If this is set to True, the axes which are reduced are left\n",
       "        in the result as dimensions with size one. With this option,\n",
       "        the result will broadcast correctly against the input array.\n",
       "\n",
       "        If the default value is passed, then `keepdims` will not be\n",
       "        passed through to the `sum` method of sub-classes of\n",
       "        `ndarray`, however any non-default value will be.  If the\n",
       "        sub-class' method does not implement `keepdims` any\n",
       "        exceptions will be raised.\n",
       "    initial : scalar, optional\n",
       "        Starting value for the sum. See `~numpy.ufunc.reduce` for details.\n",
       "\n",
       "        .. versionadded:: 1.15.0\n",
       "\n",
       "    where : array_like of bool, optional\n",
       "        Elements to include in the sum. See `~numpy.ufunc.reduce` for details.\n",
       "\n",
       "        .. versionadded:: 1.17.0\n",
       "\n",
       "    Returns\n",
       "    -------\n",
       "    sum_along_axis : ndarray\n",
       "        An array with the same shape as `a`, with the specified\n",
       "        axis removed.   If `a` is a 0-d array, or if `axis` is None, a scalar\n",
       "        is returned.  If an output array is specified, a reference to\n",
       "        `out` is returned.\n",
       "\n",
       "    See Also\n",
       "    --------\n",
       "    ndarray.sum : Equivalent method.\n",
       "\n",
       "    add.reduce : Equivalent functionality of `add`.\n",
       "\n",
       "    cumsum : Cumulative sum of array elements.\n",
       "\n",
       "    trapz : Integration of array values using the composite trapezoidal rule.\n",
       "\n",
       "    mean, average\n",
       "\n",
       "    Notes\n",
       "    -----\n",
       "    Arithmetic is modular when using integer types, and no error is\n",
       "    raised on overflow.\n",
       "\n",
       "    The sum of an empty array is the neutral element 0:\n",
       "\n",
       "    >>> np.sum([])\n",
       "    0.0\n",
       "\n",
       "    For floating point numbers the numerical precision of sum (and\n",
       "    ``np.add.reduce``) is in general limited by directly adding each number\n",
       "    individually to the result causing rounding errors in every step.\n",
       "    However, often numpy will use a  numerically better approach (partial\n",
       "    pairwise summation) leading to improved precision in many use-cases.\n",
       "    This improved precision is always provided when no ``axis`` is given.\n",
       "    When ``axis`` is given, it will depend on which axis is summed.\n",
       "    Technically, to provide the best speed possible, the improved precision\n",
       "    is only used when the summation is along the fast axis in memory.\n",
       "    Note that the exact precision may vary depending on other parameters.\n",
       "    In contrast to NumPy, Python's ``math.fsum`` function uses a slower but\n",
       "    more precise approach to summation.\n",
       "    Especially when summing a large number of lower precision floating point\n",
       "    numbers, such as ``float32``, numerical errors can become significant.\n",
       "    In such cases it can be advisable to use `dtype=\"float64\"` to use a higher\n",
       "    precision for the output.\n",
       "\n",
       "    Examples\n",
       "    --------\n",
       "    >>> np.sum([0.5, 1.5])\n",
       "    2.0\n",
       "    >>> np.sum([0.5, 0.7, 0.2, 1.5], dtype=np.int32)\n",
       "    1\n",
       "    >>> np.sum([[0, 1], [0, 5]])\n",
       "    6\n",
       "    >>> np.sum([[0, 1], [0, 5]], axis=0)\n",
       "    array([0, 6])\n",
       "    >>> np.sum([[0, 1], [0, 5]], axis=1)\n",
       "    array([1, 5])\n",
       "    >>> np.sum([[0, 1], [np.nan, 5]], where=[False, True], axis=1)\n",
       "    array([1., 5.])\n",
       "\n",
       "    If the accumulator is too small, overflow occurs:\n",
       "\n",
       "    >>> np.ones(128, dtype=np.int8).sum(dtype=np.int8)\n",
       "    -128\n",
       "\n",
       "    You can also start the sum with a value other than zero:\n",
       "\n",
       "    >>> np.sum([10], initial=5)\n",
       "    15\n",
       "    \"\"\"\u001b[0m\u001b[1;33m\n",
       "\u001b[0m    \u001b[1;32mif\u001b[0m \u001b[0misinstance\u001b[0m\u001b[1;33m(\u001b[0m\u001b[0ma\u001b[0m\u001b[1;33m,\u001b[0m \u001b[0m_gentype\u001b[0m\u001b[1;33m)\u001b[0m\u001b[1;33m:\u001b[0m\u001b[1;33m\n",
       "\u001b[0m        \u001b[1;31m# 2018-02-25, 1.15.0\u001b[0m\u001b[1;33m\n",
       "\u001b[0m        \u001b[0mwarnings\u001b[0m\u001b[1;33m.\u001b[0m\u001b[0mwarn\u001b[0m\u001b[1;33m(\u001b[0m\u001b[1;33m\n",
       "\u001b[0m            \u001b[1;34m\"Calling np.sum(generator) is deprecated, and in the future will give a different result. \"\u001b[0m\u001b[1;33m\n",
       "\u001b[0m            \u001b[1;34m\"Use np.sum(np.fromiter(generator)) or the python sum builtin instead.\"\u001b[0m\u001b[1;33m,\u001b[0m\u001b[1;33m\n",
       "\u001b[0m            \u001b[0mDeprecationWarning\u001b[0m\u001b[1;33m,\u001b[0m \u001b[0mstacklevel\u001b[0m\u001b[1;33m=\u001b[0m\u001b[1;36m2\u001b[0m\u001b[1;33m)\u001b[0m\u001b[1;33m\n",
       "\u001b[0m\u001b[1;33m\n",
       "\u001b[0m        \u001b[0mres\u001b[0m \u001b[1;33m=\u001b[0m \u001b[0m_sum_\u001b[0m\u001b[1;33m(\u001b[0m\u001b[0ma\u001b[0m\u001b[1;33m)\u001b[0m\u001b[1;33m\n",
       "\u001b[0m        \u001b[1;32mif\u001b[0m \u001b[0mout\u001b[0m \u001b[1;32mis\u001b[0m \u001b[1;32mnot\u001b[0m \u001b[1;32mNone\u001b[0m\u001b[1;33m:\u001b[0m\u001b[1;33m\n",
       "\u001b[0m            \u001b[0mout\u001b[0m\u001b[1;33m[\u001b[0m\u001b[1;33m...\u001b[0m\u001b[1;33m]\u001b[0m \u001b[1;33m=\u001b[0m \u001b[0mres\u001b[0m\u001b[1;33m\n",
       "\u001b[0m            \u001b[1;32mreturn\u001b[0m \u001b[0mout\u001b[0m\u001b[1;33m\n",
       "\u001b[0m        \u001b[1;32mreturn\u001b[0m \u001b[0mres\u001b[0m\u001b[1;33m\n",
       "\u001b[0m\u001b[1;33m\n",
       "\u001b[0m    \u001b[1;32mreturn\u001b[0m \u001b[0m_wrapreduction\u001b[0m\u001b[1;33m(\u001b[0m\u001b[0ma\u001b[0m\u001b[1;33m,\u001b[0m \u001b[0mnp\u001b[0m\u001b[1;33m.\u001b[0m\u001b[0madd\u001b[0m\u001b[1;33m,\u001b[0m \u001b[1;34m'sum'\u001b[0m\u001b[1;33m,\u001b[0m \u001b[0maxis\u001b[0m\u001b[1;33m,\u001b[0m \u001b[0mdtype\u001b[0m\u001b[1;33m,\u001b[0m \u001b[0mout\u001b[0m\u001b[1;33m,\u001b[0m \u001b[0mkeepdims\u001b[0m\u001b[1;33m=\u001b[0m\u001b[0mkeepdims\u001b[0m\u001b[1;33m,\u001b[0m\u001b[1;33m\n",
       "\u001b[0m                          \u001b[0minitial\u001b[0m\u001b[1;33m=\u001b[0m\u001b[0minitial\u001b[0m\u001b[1;33m,\u001b[0m \u001b[0mwhere\u001b[0m\u001b[1;33m=\u001b[0m\u001b[0mwhere\u001b[0m\u001b[1;33m)\u001b[0m\u001b[1;33m\u001b[0m\u001b[1;33m\u001b[0m\u001b[0m\n",
       "\u001b[1;31mClass docstring:\u001b[0m\n",
       "Class to wrap functions with checks for __array_function__ overrides.\n",
       "\n",
       "All arguments are required, and can only be passed by position.\n",
       "\n",
       "Parameters\n",
       "----------\n",
       "dispatcher : function or None\n",
       "    The dispatcher function that returns a single sequence-like object\n",
       "    of all arguments relevant.  It must have the same signature (except\n",
       "    the default values) as the actual implementation.\n",
       "    If ``None``, this is a ``like=`` dispatcher and the\n",
       "    ``_ArrayFunctionDispatcher`` must be called with ``like`` as the\n",
       "    first (additional and positional) argument.\n",
       "implementation : function\n",
       "    Function that implements the operation on NumPy arrays without\n",
       "    overrides.  Arguments passed calling the ``_ArrayFunctionDispatcher``\n",
       "    will be forwarded to this (and the ``dispatcher``) as if using\n",
       "    ``*args, **kwargs``.\n",
       "\n",
       "Attributes\n",
       "----------\n",
       "_implementation : function\n",
       "    The original implementation passed in."
      ]
     },
     "metadata": {},
     "output_type": "display_data"
    }
   ],
   "source": [
    "#al tener una duda sobre alguna función nativa de python o de alguna libreria se aplica ?\n",
    "np.sum??"
   ]
  },
  {
   "cell_type": "markdown",
   "id": "e02d3f3c-e471-40bc-8ebf-728538b9ba90",
   "metadata": {},
   "source": [
    "## Aritmética básica\n",
    "\n",
    "Operadores: \n",
    "* suma: +\n",
    "* resta: -\n",
    "* multiplicación: *\n",
    "* división: /\n",
    "* división entera: //\n",
    "* potencia: **\n",
    "* módulo: %"
   ]
  },
  {
   "cell_type": "code",
   "execution_count": 10,
   "id": "12474ae9-2a7b-4c15-aeed-99f2fb2185a5",
   "metadata": {},
   "outputs": [
    {
     "name": "stdout",
     "output_type": "stream",
     "text": [
      "6\n",
      "27\n",
      "2.25\n",
      "2\n"
     ]
    }
   ],
   "source": [
    "#obedece jerarquía de las operaciones.\n",
    "print(3+3)\n",
    "print(3**3)\n",
    "print(9/4)\n",
    "print(9//4)"
   ]
  },
  {
   "cell_type": "markdown",
   "id": "1ac39495-e572-4309-9c37-3eaf3004de4e",
   "metadata": {},
   "source": [
    "Podemos escribir en Latex tanto en estas céldas denominadas Markdown (que se activan apretando Esc sobre una celda y luego la tecla M). Para hacerlo aquí solo hay que encerrar entre símbolos de pesos $\\pi$\n",
    "\n",
    "$$x_{n+1}=rx_n(1-x_n)$$"
   ]
  },
  {
   "cell_type": "code",
   "execution_count": 11,
   "id": "2f7fc75a-8bc2-4149-938d-184c58160da2",
   "metadata": {},
   "outputs": [
    {
     "data": {
      "text/plain": [
       "4"
      ]
     },
     "execution_count": 11,
     "metadata": {},
     "output_type": "execute_result"
    }
   ],
   "source": [
    "#incluso en las celdas se pueden acceder a símbolos matemáticos:\n",
    "λ = 4\n",
    "λ"
   ]
  },
  {
   "cell_type": "code",
   "execution_count": 13,
   "id": "7bc46e1d-1a6f-40d6-a90d-d648c9989d7a",
   "metadata": {},
   "outputs": [
    {
     "name": "stdout",
     "output_type": "stream",
     "text": [
      "cos(0) =  1.0\n",
      "e =  2.718281828459045\n"
     ]
    }
   ],
   "source": [
    "#Esta celda va a funcionar porque anteriormente se ha importado la librería math completa.\n",
    "print(\"cos(0) = \",cos(0))\n",
    "print(\"e = \",exp(1))"
   ]
  },
  {
   "cell_type": "markdown",
   "id": "40bd5a3c-ba93-48b9-a0b5-fd63d0c79de4",
   "metadata": {},
   "source": [
    "## Tipos de datos\n",
    "\n",
    "* Enteros: Int\n",
    "* Flotantes: Float\n",
    "* Cadenas: String\n",
    "* Caracteres: Char"
   ]
  },
  {
   "cell_type": "code",
   "execution_count": 14,
   "id": "1368ec69-f32b-4ac3-9190-6dc360c9caf4",
   "metadata": {},
   "outputs": [
    {
     "name": "stdout",
     "output_type": "stream",
     "text": [
      "Esta es una cadena\n"
     ]
    },
    {
     "data": {
      "text/plain": [
       "str"
      ]
     },
     "execution_count": 14,
     "metadata": {},
     "output_type": "execute_result"
    }
   ],
   "source": [
    "a = \"Esta es una cadena\"\n",
    "print(a)\n",
    "type(a)"
   ]
  },
  {
   "cell_type": "code",
   "execution_count": 15,
   "id": "b4622542-5b84-4eb4-87f1-57e88c18e60a",
   "metadata": {},
   "outputs": [
    {
     "name": "stdout",
     "output_type": "stream",
     "text": [
      "1\n"
     ]
    },
    {
     "data": {
      "text/plain": [
       "int"
      ]
     },
     "execution_count": 15,
     "metadata": {},
     "output_type": "execute_result"
    }
   ],
   "source": [
    "b = 1\n",
    "print(b)\n",
    "type(b)"
   ]
  },
  {
   "cell_type": "code",
   "execution_count": 17,
   "id": "ff2d6357-4b65-43f8-9de6-3f8b44bd9b02",
   "metadata": {},
   "outputs": [
    {
     "name": "stdout",
     "output_type": "stream",
     "text": [
      "3.141592653589793\n"
     ]
    },
    {
     "data": {
      "text/plain": [
       "float"
      ]
     },
     "execution_count": 17,
     "metadata": {},
     "output_type": "execute_result"
    }
   ],
   "source": [
    "c = np.pi\n",
    "print(c)\n",
    "type(c)"
   ]
  },
  {
   "cell_type": "code",
   "execution_count": null,
   "id": "7657328f-1f00-4edf-8a49-ad61089084d2",
   "metadata": {},
   "outputs": [],
   "source": []
  }
 ],
 "metadata": {
  "kernelspec": {
   "display_name": "Python 3 (ipykernel)",
   "language": "python",
   "name": "python3"
  },
  "language_info": {
   "codemirror_mode": {
    "name": "ipython",
    "version": 3
   },
   "file_extension": ".py",
   "mimetype": "text/x-python",
   "name": "python",
   "nbconvert_exporter": "python",
   "pygments_lexer": "ipython3",
   "version": "3.12.3"
  }
 },
 "nbformat": 4,
 "nbformat_minor": 5
}
